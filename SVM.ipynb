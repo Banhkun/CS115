{
  "nbformat": 4,
  "nbformat_minor": 0,
  "metadata": {
    "colab": {
      "name": "SVM.ipynb",
      "provenance": [],
      "include_colab_link": true
    },
    "kernelspec": {
      "name": "python3",
      "display_name": "Python 3"
    },
    "language_info": {
      "name": "python"
    },
    "widgets": {
      "application/vnd.jupyter.widget-state+json": {
        "1ecda477cafa4e03bb3690bf351de1db": {
          "model_module": "@jupyter-widgets/controls",
          "model_name": "VBoxModel",
          "model_module_version": "1.5.0",
          "state": {
            "_view_name": "VBoxView",
            "_dom_classes": [
              "widget-interact"
            ],
            "_model_name": "VBoxModel",
            "_view_module": "@jupyter-widgets/controls",
            "_model_module_version": "1.5.0",
            "_view_count": null,
            "_view_module_version": "1.5.0",
            "box_style": "",
            "layout": "IPY_MODEL_385783895e6e40ff83ca98a07fbe7d6d",
            "_model_module": "@jupyter-widgets/controls",
            "children": [
              "IPY_MODEL_cf1e6c077d214ac2ad56b2e578233b64",
              "IPY_MODEL_6d369f5675ba4a1484eb9002ab14becf"
            ]
          }
        },
        "385783895e6e40ff83ca98a07fbe7d6d": {
          "model_module": "@jupyter-widgets/base",
          "model_name": "LayoutModel",
          "model_module_version": "1.2.0",
          "state": {
            "_view_name": "LayoutView",
            "grid_template_rows": null,
            "right": null,
            "justify_content": null,
            "_view_module": "@jupyter-widgets/base",
            "overflow": null,
            "_model_module_version": "1.2.0",
            "_view_count": null,
            "flex_flow": null,
            "width": null,
            "min_width": null,
            "border": null,
            "align_items": null,
            "bottom": null,
            "_model_module": "@jupyter-widgets/base",
            "top": null,
            "grid_column": null,
            "overflow_y": null,
            "overflow_x": null,
            "grid_auto_flow": null,
            "grid_area": null,
            "grid_template_columns": null,
            "flex": null,
            "_model_name": "LayoutModel",
            "justify_items": null,
            "grid_row": null,
            "max_height": null,
            "align_content": null,
            "visibility": null,
            "align_self": null,
            "height": null,
            "min_height": null,
            "padding": null,
            "grid_auto_rows": null,
            "grid_gap": null,
            "max_width": null,
            "order": null,
            "_view_module_version": "1.2.0",
            "grid_template_areas": null,
            "object_position": null,
            "object_fit": null,
            "grid_auto_columns": null,
            "margin": null,
            "display": null,
            "left": null
          }
        },
        "cf1e6c077d214ac2ad56b2e578233b64": {
          "model_module": "@jupyter-widgets/controls",
          "model_name": "DropdownModel",
          "model_module_version": "1.5.0",
          "state": {
            "_options_labels": [
              "10",
              "60",
              "120",
              "200"
            ],
            "_view_name": "DropdownView",
            "style": "IPY_MODEL_d724ff8ac40143ff8c41fc85679c29b1",
            "_dom_classes": [],
            "description": "N",
            "_model_name": "DropdownModel",
            "index": 0,
            "_view_module": "@jupyter-widgets/controls",
            "_model_module_version": "1.5.0",
            "_view_count": null,
            "disabled": false,
            "_view_module_version": "1.5.0",
            "description_tooltip": null,
            "_model_module": "@jupyter-widgets/controls",
            "layout": "IPY_MODEL_70ac8676901b4b0b8ad07f743e8369ba"
          }
        },
        "6d369f5675ba4a1484eb9002ab14becf": {
          "model_module": "@jupyter-widgets/output",
          "model_name": "OutputModel",
          "model_module_version": "1.0.0",
          "state": {
            "_view_name": "OutputView",
            "msg_id": "",
            "_dom_classes": [],
            "_model_name": "OutputModel",
            "outputs": [
              {
                "output_type": "display_data",
                "data": {
                  "image/png": "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\n",
                  "text/plain": "<Figure size 432x288 with 1 Axes>"
                },
                "metadata": {
                  "needs_background": "light"
                }
              }
            ],
            "_view_module": "@jupyter-widgets/output",
            "_model_module_version": "1.0.0",
            "_view_count": null,
            "_view_module_version": "1.0.0",
            "layout": "IPY_MODEL_7772fed16f204f2da4c6fae723f36b13",
            "_model_module": "@jupyter-widgets/output"
          }
        },
        "d724ff8ac40143ff8c41fc85679c29b1": {
          "model_module": "@jupyter-widgets/controls",
          "model_name": "DescriptionStyleModel",
          "model_module_version": "1.5.0",
          "state": {
            "_view_name": "StyleView",
            "_model_name": "DescriptionStyleModel",
            "description_width": "",
            "_view_module": "@jupyter-widgets/base",
            "_model_module_version": "1.5.0",
            "_view_count": null,
            "_view_module_version": "1.2.0",
            "_model_module": "@jupyter-widgets/controls"
          }
        },
        "70ac8676901b4b0b8ad07f743e8369ba": {
          "model_module": "@jupyter-widgets/base",
          "model_name": "LayoutModel",
          "model_module_version": "1.2.0",
          "state": {
            "_view_name": "LayoutView",
            "grid_template_rows": null,
            "right": null,
            "justify_content": null,
            "_view_module": "@jupyter-widgets/base",
            "overflow": null,
            "_model_module_version": "1.2.0",
            "_view_count": null,
            "flex_flow": null,
            "width": null,
            "min_width": null,
            "border": null,
            "align_items": null,
            "bottom": null,
            "_model_module": "@jupyter-widgets/base",
            "top": null,
            "grid_column": null,
            "overflow_y": null,
            "overflow_x": null,
            "grid_auto_flow": null,
            "grid_area": null,
            "grid_template_columns": null,
            "flex": null,
            "_model_name": "LayoutModel",
            "justify_items": null,
            "grid_row": null,
            "max_height": null,
            "align_content": null,
            "visibility": null,
            "align_self": null,
            "height": null,
            "min_height": null,
            "padding": null,
            "grid_auto_rows": null,
            "grid_gap": null,
            "max_width": null,
            "order": null,
            "_view_module_version": "1.2.0",
            "grid_template_areas": null,
            "object_position": null,
            "object_fit": null,
            "grid_auto_columns": null,
            "margin": null,
            "display": null,
            "left": null
          }
        },
        "7772fed16f204f2da4c6fae723f36b13": {
          "model_module": "@jupyter-widgets/base",
          "model_name": "LayoutModel",
          "model_module_version": "1.2.0",
          "state": {
            "_view_name": "LayoutView",
            "grid_template_rows": null,
            "right": null,
            "justify_content": null,
            "_view_module": "@jupyter-widgets/base",
            "overflow": null,
            "_model_module_version": "1.2.0",
            "_view_count": null,
            "flex_flow": null,
            "width": null,
            "min_width": null,
            "border": null,
            "align_items": null,
            "bottom": null,
            "_model_module": "@jupyter-widgets/base",
            "top": null,
            "grid_column": null,
            "overflow_y": null,
            "overflow_x": null,
            "grid_auto_flow": null,
            "grid_area": null,
            "grid_template_columns": null,
            "flex": null,
            "_model_name": "LayoutModel",
            "justify_items": null,
            "grid_row": null,
            "max_height": null,
            "align_content": null,
            "visibility": null,
            "align_self": null,
            "height": null,
            "min_height": null,
            "padding": null,
            "grid_auto_rows": null,
            "grid_gap": null,
            "max_width": null,
            "order": null,
            "_view_module_version": "1.2.0",
            "grid_template_areas": null,
            "object_position": null,
            "object_fit": null,
            "grid_auto_columns": null,
            "margin": null,
            "display": null,
            "left": null
          }
        },
        "3125a2735dba4e798baff0ea7a3cf54c": {
          "model_module": "@jupyter-widgets/controls",
          "model_name": "VBoxModel",
          "model_module_version": "1.5.0",
          "state": {
            "_view_name": "VBoxView",
            "_dom_classes": [
              "widget-interact"
            ],
            "_model_name": "VBoxModel",
            "_view_module": "@jupyter-widgets/controls",
            "_model_module_version": "1.5.0",
            "_view_count": null,
            "_view_module_version": "1.5.0",
            "box_style": "",
            "layout": "IPY_MODEL_27bd1d2d49c64c22829ef15c0c1bdeac",
            "_model_module": "@jupyter-widgets/controls",
            "children": [
              "IPY_MODEL_ee0f3af457aa4c5aa39c16a63eef14ee",
              "IPY_MODEL_6b45645a81d647b7bc02743f664f6059",
              "IPY_MODEL_7315faf5f39b4fb8a162bf60853b074b"
            ]
          }
        },
        "27bd1d2d49c64c22829ef15c0c1bdeac": {
          "model_module": "@jupyter-widgets/base",
          "model_name": "LayoutModel",
          "model_module_version": "1.2.0",
          "state": {
            "_view_name": "LayoutView",
            "grid_template_rows": null,
            "right": null,
            "justify_content": null,
            "_view_module": "@jupyter-widgets/base",
            "overflow": null,
            "_model_module_version": "1.2.0",
            "_view_count": null,
            "flex_flow": null,
            "width": null,
            "min_width": null,
            "border": null,
            "align_items": null,
            "bottom": null,
            "_model_module": "@jupyter-widgets/base",
            "top": null,
            "grid_column": null,
            "overflow_y": null,
            "overflow_x": null,
            "grid_auto_flow": null,
            "grid_area": null,
            "grid_template_columns": null,
            "flex": null,
            "_model_name": "LayoutModel",
            "justify_items": null,
            "grid_row": null,
            "max_height": null,
            "align_content": null,
            "visibility": null,
            "align_self": null,
            "height": null,
            "min_height": null,
            "padding": null,
            "grid_auto_rows": null,
            "grid_gap": null,
            "max_width": null,
            "order": null,
            "_view_module_version": "1.2.0",
            "grid_template_areas": null,
            "object_position": null,
            "object_fit": null,
            "grid_auto_columns": null,
            "margin": null,
            "display": null,
            "left": null
          }
        },
        "ee0f3af457aa4c5aa39c16a63eef14ee": {
          "model_module": "@jupyter-widgets/controls",
          "model_name": "IntSliderModel",
          "model_module_version": "1.5.0",
          "state": {
            "_view_name": "IntSliderView",
            "style": "IPY_MODEL_71a3669d77bf4d02b3c7c1ba68e6c35c",
            "_dom_classes": [],
            "description": "elev",
            "step": 1,
            "_model_name": "IntSliderModel",
            "orientation": "horizontal",
            "max": 90,
            "_view_module": "@jupyter-widgets/controls",
            "_model_module_version": "1.5.0",
            "value": 30,
            "_view_count": null,
            "disabled": false,
            "_view_module_version": "1.5.0",
            "min": -30,
            "continuous_update": true,
            "readout_format": "d",
            "description_tooltip": null,
            "readout": true,
            "_model_module": "@jupyter-widgets/controls",
            "layout": "IPY_MODEL_f1012498cedc44c5862473ea21644ded"
          }
        },
        "6b45645a81d647b7bc02743f664f6059": {
          "model_module": "@jupyter-widgets/controls",
          "model_name": "IntSliderModel",
          "model_module_version": "1.5.0",
          "state": {
            "_view_name": "IntSliderView",
            "style": "IPY_MODEL_726ad1dd2d91492cbf1d773e4b154e1c",
            "_dom_classes": [],
            "description": "azim",
            "step": 1,
            "_model_name": "IntSliderModel",
            "orientation": "horizontal",
            "max": 90,
            "_view_module": "@jupyter-widgets/controls",
            "_model_module_version": "1.5.0",
            "value": 30,
            "_view_count": null,
            "disabled": false,
            "_view_module_version": "1.5.0",
            "min": -30,
            "continuous_update": true,
            "readout_format": "d",
            "description_tooltip": null,
            "readout": true,
            "_model_module": "@jupyter-widgets/controls",
            "layout": "IPY_MODEL_9ea020c0615849b3bf26ce3f80a5a8ae"
          }
        },
        "7315faf5f39b4fb8a162bf60853b074b": {
          "model_module": "@jupyter-widgets/output",
          "model_name": "OutputModel",
          "model_module_version": "1.0.0",
          "state": {
            "_view_name": "OutputView",
            "msg_id": "",
            "_dom_classes": [],
            "_model_name": "OutputModel",
            "outputs": [
              {
                "output_type": "display_data",
                "data": {
                  "image/png": "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\n",
                  "text/plain": "<Figure size 432x288 with 1 Axes>"
                },
                "metadata": {
                  "needs_background": "light"
                }
              }
            ],
            "_view_module": "@jupyter-widgets/output",
            "_model_module_version": "1.0.0",
            "_view_count": null,
            "_view_module_version": "1.0.0",
            "layout": "IPY_MODEL_3ad1e48ff7ad4691bebbafb56037c1d4",
            "_model_module": "@jupyter-widgets/output"
          }
        },
        "71a3669d77bf4d02b3c7c1ba68e6c35c": {
          "model_module": "@jupyter-widgets/controls",
          "model_name": "SliderStyleModel",
          "model_module_version": "1.5.0",
          "state": {
            "_view_name": "StyleView",
            "handle_color": null,
            "_model_name": "SliderStyleModel",
            "description_width": "",
            "_view_module": "@jupyter-widgets/base",
            "_model_module_version": "1.5.0",
            "_view_count": null,
            "_view_module_version": "1.2.0",
            "_model_module": "@jupyter-widgets/controls"
          }
        },
        "f1012498cedc44c5862473ea21644ded": {
          "model_module": "@jupyter-widgets/base",
          "model_name": "LayoutModel",
          "model_module_version": "1.2.0",
          "state": {
            "_view_name": "LayoutView",
            "grid_template_rows": null,
            "right": null,
            "justify_content": null,
            "_view_module": "@jupyter-widgets/base",
            "overflow": null,
            "_model_module_version": "1.2.0",
            "_view_count": null,
            "flex_flow": null,
            "width": null,
            "min_width": null,
            "border": null,
            "align_items": null,
            "bottom": null,
            "_model_module": "@jupyter-widgets/base",
            "top": null,
            "grid_column": null,
            "overflow_y": null,
            "overflow_x": null,
            "grid_auto_flow": null,
            "grid_area": null,
            "grid_template_columns": null,
            "flex": null,
            "_model_name": "LayoutModel",
            "justify_items": null,
            "grid_row": null,
            "max_height": null,
            "align_content": null,
            "visibility": null,
            "align_self": null,
            "height": null,
            "min_height": null,
            "padding": null,
            "grid_auto_rows": null,
            "grid_gap": null,
            "max_width": null,
            "order": null,
            "_view_module_version": "1.2.0",
            "grid_template_areas": null,
            "object_position": null,
            "object_fit": null,
            "grid_auto_columns": null,
            "margin": null,
            "display": null,
            "left": null
          }
        },
        "726ad1dd2d91492cbf1d773e4b154e1c": {
          "model_module": "@jupyter-widgets/controls",
          "model_name": "SliderStyleModel",
          "model_module_version": "1.5.0",
          "state": {
            "_view_name": "StyleView",
            "handle_color": null,
            "_model_name": "SliderStyleModel",
            "description_width": "",
            "_view_module": "@jupyter-widgets/base",
            "_model_module_version": "1.5.0",
            "_view_count": null,
            "_view_module_version": "1.2.0",
            "_model_module": "@jupyter-widgets/controls"
          }
        },
        "9ea020c0615849b3bf26ce3f80a5a8ae": {
          "model_module": "@jupyter-widgets/base",
          "model_name": "LayoutModel",
          "model_module_version": "1.2.0",
          "state": {
            "_view_name": "LayoutView",
            "grid_template_rows": null,
            "right": null,
            "justify_content": null,
            "_view_module": "@jupyter-widgets/base",
            "overflow": null,
            "_model_module_version": "1.2.0",
            "_view_count": null,
            "flex_flow": null,
            "width": null,
            "min_width": null,
            "border": null,
            "align_items": null,
            "bottom": null,
            "_model_module": "@jupyter-widgets/base",
            "top": null,
            "grid_column": null,
            "overflow_y": null,
            "overflow_x": null,
            "grid_auto_flow": null,
            "grid_area": null,
            "grid_template_columns": null,
            "flex": null,
            "_model_name": "LayoutModel",
            "justify_items": null,
            "grid_row": null,
            "max_height": null,
            "align_content": null,
            "visibility": null,
            "align_self": null,
            "height": null,
            "min_height": null,
            "padding": null,
            "grid_auto_rows": null,
            "grid_gap": null,
            "max_width": null,
            "order": null,
            "_view_module_version": "1.2.0",
            "grid_template_areas": null,
            "object_position": null,
            "object_fit": null,
            "grid_auto_columns": null,
            "margin": null,
            "display": null,
            "left": null
          }
        },
        "3ad1e48ff7ad4691bebbafb56037c1d4": {
          "model_module": "@jupyter-widgets/base",
          "model_name": "LayoutModel",
          "model_module_version": "1.2.0",
          "state": {
            "_view_name": "LayoutView",
            "grid_template_rows": null,
            "right": null,
            "justify_content": null,
            "_view_module": "@jupyter-widgets/base",
            "overflow": null,
            "_model_module_version": "1.2.0",
            "_view_count": null,
            "flex_flow": null,
            "width": null,
            "min_width": null,
            "border": null,
            "align_items": null,
            "bottom": null,
            "_model_module": "@jupyter-widgets/base",
            "top": null,
            "grid_column": null,
            "overflow_y": null,
            "overflow_x": null,
            "grid_auto_flow": null,
            "grid_area": null,
            "grid_template_columns": null,
            "flex": null,
            "_model_name": "LayoutModel",
            "justify_items": null,
            "grid_row": null,
            "max_height": null,
            "align_content": null,
            "visibility": null,
            "align_self": null,
            "height": null,
            "min_height": null,
            "padding": null,
            "grid_auto_rows": null,
            "grid_gap": null,
            "max_width": null,
            "order": null,
            "_view_module_version": "1.2.0",
            "grid_template_areas": null,
            "object_position": null,
            "object_fit": null,
            "grid_auto_columns": null,
            "margin": null,
            "display": null,
            "left": null
          }
        }
      }
    },
    "accelerator": "GPU"
  },
  "cells": [
    {
      "cell_type": "markdown",
      "metadata": {
        "id": "view-in-github",
        "colab_type": "text"
      },
      "source": [
        "<a href=\"https://colab.research.google.com/github/Banhkun/CS115/blob/main/SVM.ipynb\" target=\"_parent\"><img src=\"https://colab.research.google.com/assets/colab-badge.svg\" alt=\"Open In Colab\"/></a>"
      ]
    },
    {
      "cell_type": "markdown",
      "metadata": {
        "id": "J7SxJgapRbB2"
      },
      "source": [
        "\n",
        "Import thư viện cần thiết:"
      ]
    },
    {
      "cell_type": "code",
      "execution_count": 1,
      "metadata": {
        "id": "V7yLOEtkRbB2"
      },
      "outputs": [],
      "source": [
        "%matplotlib inline\n",
        "import numpy as np\n",
        "import matplotlib.pyplot as plt\n",
        "from scipy import stats\n",
        "\n",
        "# Thư viện seaborn dùng cho việc mình họa\n",
        "import seaborn as sns; sns.set()"
      ]
    },
    {
      "cell_type": "code",
      "source": [
        "#clone github to get data\n",
        "%cd /content\n",
        "! rm -rf CS115\n",
        "! git clone https://github.com/Banhkun/CS115.git\n",
        "%cd CS115"
      ],
      "metadata": {
        "colab": {
          "base_uri": "https://localhost:8080/"
        },
        "id": "USqspZNL-Uil",
        "outputId": "5c42e4d6-9e27-43e6-858a-2f1abd813e06"
      },
      "execution_count": 2,
      "outputs": [
        {
          "output_type": "stream",
          "name": "stdout",
          "text": [
            "/content\n",
            "Cloning into 'CS115'...\n",
            "remote: Enumerating objects: 42, done.\u001b[K\n",
            "remote: Counting objects: 100% (42/42), done.\u001b[K\n",
            "remote: Compressing objects: 100% (31/31), done.\u001b[K\n",
            "remote: Total 42 (delta 9), reused 0 (delta 0), pack-reused 0\u001b[K\n",
            "Unpacking objects: 100% (42/42), done.\n",
            "/content/CS115\n"
          ]
        }
      ]
    },
    {
      "cell_type": "markdown",
      "metadata": {
        "id": "ZU-_isrORbB3"
      },
      "source": [
        "## Motivating Support Vector Machines"
      ]
    },
    {
      "cell_type": "markdown",
      "metadata": {
        "id": "dUAAIKCwRbB6"
      },
      "source": [
        "## 1.Hard Margin SVM: \n",
        "\n",
        "Support vector machines offer one way to improve on this.\n",
        "The intuition is this: rather than simply drawing a zero-width line between the classes, we can draw around each line a *margin* of some width, up to the nearest point.\n",
        "Here is an example of how this might look:"
      ]
    },
    {
      "cell_type": "code",
      "execution_count": 3,
      "metadata": {
        "id": "d20VbLGFRbB4",
        "outputId": "934b2c2b-2b2a-4d0e-c802-25024978e32c",
        "colab": {
          "base_uri": "https://localhost:8080/",
          "height": 268
        }
      },
      "outputs": [
        {
          "output_type": "display_data",
          "data": {
            "image/png": "[encoded data removed]",
            "text/plain": [
              "<Figure size 432x288 with 1 Axes>"
            ]
          },
          "metadata": {
            "needs_background": "light"
          }
        }
      ],
      "source": [
        "from sklearn.datasets import make_blobs\n",
        "X, y = make_blobs(n_samples=50, centers=2,\n",
        "                  random_state=0, cluster_std=0.60)\n",
        "plt.scatter(X[:, 0], X[:, 1], c=y, s=50, cmap='autumn');"
      ]
    },
    {
      "cell_type": "code",
      "execution_count": 4,
      "metadata": {
        "id": "vg6Zg0gXRbB6",
        "outputId": "9d883fcb-a2f5-4611-f35b-3f448c1b6761",
        "colab": {
          "base_uri": "https://localhost:8080/",
          "height": 268
        }
      },
      "outputs": [
        {
          "output_type": "display_data",
          "data": {
            "image/png": "[encoded data removed]",
            "text/plain": [
              "<Figure size 432x288 with 1 Axes>"
            ]
          },
          "metadata": {
            "needs_background": "light"
          }
        }
      ],
      "source": [
        "xfit = np.linspace(-1, 3.5)\n",
        "plt.scatter(X[:, 0], X[:, 1], c=y, s=50, cmap='autumn')\n",
        "\n",
        "for m, b, d in [(1, 0.65, 0.33), (0.5, 1.6, 0.55), (-0.2, 2.9, 0.2)]:\n",
        "    yfit = m * xfit + b\n",
        "    plt.plot(xfit, yfit, '-k')\n",
        "    plt.fill_between(xfit, yfit - d, yfit + d, edgecolor='none',\n",
        "                     color='#AAAAAA', alpha=0.4)\n",
        "\n",
        "plt.xlim(-1, 3.5);"
      ]
    },
    {
      "cell_type": "markdown",
      "metadata": {
        "id": "QOFOmSH0RbB6"
      },
      "source": [
        "In support vector machines, the line that maximizes this margin is the one we will choose as the optimal model.\n",
        "Support vector machines are an example of such a *maximum margin* estimator."
      ]
    },
    {
      "cell_type": "markdown",
      "metadata": {
        "id": "R330sk3_RbB7"
      },
      "source": [
        "### Fitting a support vector machine\n",
        "\n",
        "Let's see the result of an actual fit to this data: we will use Scikit-Learn's support vector classifier to train an SVM model on this data.\n",
        "For the time being, we will use a linear kernel and set the ``C`` parameter to a very large number (we'll discuss the meaning of these in more depth momentarily)."
      ]
    },
    {
      "cell_type": "code",
      "execution_count": 5,
      "metadata": {
        "id": "sLBVrifmRbB7",
        "outputId": "86734c11-fc19-447d-de2d-da62ff23c9ec",
        "colab": {
          "base_uri": "https://localhost:8080/"
        }
      },
      "outputs": [
        {
          "output_type": "execute_result",
          "data": {
            "text/plain": [
              "SVC(C=10000000000.0, kernel='linear')"
            ]
          },
          "metadata": {},
          "execution_count": 5
        }
      ],
      "source": [
        "from sklearn.svm import SVC # \"Support vector classifier\"\n",
        "model = SVC(kernel='linear', C=1E10)\n",
        "model.fit(X, y)"
      ]
    },
    {
      "cell_type": "markdown",
      "metadata": {
        "id": "J3NEOydERbB7"
      },
      "source": [
        "To better visualize what's happening here, let's create a quick convenience function that will plot SVM decision boundaries for us:"
      ]
    },
    {
      "cell_type": "code",
      "execution_count": 6,
      "metadata": {
        "id": "FEjB9GkFRbB7"
      },
      "outputs": [],
      "source": [
        "def plot_svc_decision_function(model, ax=None, plot_support=True):\n",
        "    \"\"\"Plot the decision function for a 2D SVC\"\"\"\n",
        "    if ax is None:\n",
        "        ax = plt.gca()\n",
        "    xlim = ax.get_xlim()\n",
        "    ylim = ax.get_ylim()\n",
        "    \n",
        "    # create grid to evaluate model\n",
        "    x = np.linspace(xlim[0], xlim[1], 30)\n",
        "    y = np.linspace(ylim[0], ylim[1], 30)\n",
        "    Y, X = np.meshgrid(y, x)\n",
        "    xy = np.vstack([X.ravel(), Y.ravel()]).T\n",
        "    P = model.decision_function(xy).reshape(X.shape)\n",
        "    \n",
        "    # plot decision boundary and margins\n",
        "    ax.contour(X, Y, P, colors='k',\n",
        "               levels=[-1, 0, 1], alpha=0.5,\n",
        "               linestyles=['--', '-', '--'])\n",
        "    \n",
        "    # plot support vectors\n",
        "    if plot_support:\n",
        "        ax.scatter(model.support_vectors_[:, 0],\n",
        "                   model.support_vectors_[:, 1],\n",
        "                   s=300, linewidth=1, edgecolor = 'black', facecolors='none');\n",
        "    ax.set_xlim(xlim)\n",
        "    ax.set_ylim(ylim)"
      ]
    },
    {
      "cell_type": "code",
      "execution_count": 7,
      "metadata": {
        "id": "KtQAPLBNRbB7",
        "outputId": "32c45f60-473c-40ca-b3cd-a5f9caf9b7c5",
        "colab": {
          "base_uri": "https://localhost:8080/",
          "height": 268
        }
      },
      "outputs": [
        {
          "output_type": "display_data",
          "data": {
            "image/png": "[encoded data removed]",
            "text/plain": [
              "<Figure size 432x288 with 1 Axes>"
            ]
          },
          "metadata": {
            "needs_background": "light"
          }
        }
      ],
      "source": [
        "plt.scatter(X[:, 0], X[:, 1], c=y, s=50, cmap='autumn')\n",
        "plot_svc_decision_function(model);"
      ]
    },
    {
      "cell_type": "markdown",
      "metadata": {
        "id": "6vm9EgAYRbB7"
      },
      "source": [
        "Đây là đường phân chia tối đa hóa được margin giữa hai tập hợp điểm.\n",
        "Ta thấy: một số điểm huấn luyện chỉ chạm vào lề: chúng được bao xung quanh bằng các vòng tròn màu đen trong hình trên.\n",
        "Những điểm này là yếu tố quan trọng và được gọi là * vectơ hỗ trợ * do đó thuật toán mới có tên gọi là Support Vector Machine.\n",
        "Trong Scikit-Learn, danh tính của những điểm này được lưu trữ trong thuộc tính `` support_vectors_`` của trình phân loại:"
      ]
    },
    {
      "cell_type": "code",
      "execution_count": 8,
      "metadata": {
        "id": "sgOpw6c9RbB8",
        "outputId": "ce3ca374-8662-4fd8-c724-6b9d5b54eb74",
        "colab": {
          "base_uri": "https://localhost:8080/"
        }
      },
      "outputs": [
        {
          "output_type": "execute_result",
          "data": {
            "text/plain": [
              "array([[0.44359863, 3.11530945],\n",
              "       [2.33812285, 3.43116792],\n",
              "       [2.06156753, 1.96918596]])"
            ]
          },
          "metadata": {},
          "execution_count": 8
        }
      ],
      "source": [
        "#Trong Scikit-Learn, ta có thể truy xuất các điểm này bằng thuộc tính `` support_vectors_`` của classifier:\n",
        "model.support_vectors_"
      ]
    },
    {
      "cell_type": "markdown",
      "source": [
        "Chìa khóa thành công của mô hình này là: chỉ vị trí của các support vector mới được thật sự quan trọng; bất kỳ điểm nào xa hơn so với lề được phân loại đúng sẽ không tác động tới model!\n",
        "\n",
        "\n",
        "---\n",
        "\n",
        "\n",
        "Về mặt kỹ thuật, điều này là do những điểm này không đóng góp vào hàm loss được \n",
        "sử dụng để fitting model, vì vậy vị trí và số lượng của chúng không quan trọng miễn là chúng không vượt qua biên."
      ],
      "metadata": {
        "id": "S6O0yL8nXR99"
      }
    },
    {
      "cell_type": "code",
      "execution_count": 9,
      "metadata": {
        "id": "oPmYO9KYRbB8"
      },
      "outputs": [],
      "source": [
        "def plot_svm(N=10, ax=None):\n",
        "    X, y = make_blobs(n_samples=200, centers=2,\n",
        "                      random_state=0, cluster_std=0.60)\n",
        "    X = X[:N]\n",
        "    y = y[:N]\n",
        "    model = SVC(kernel='linear', C=1E10)\n",
        "    model.fit(X, y)\n",
        "    \n",
        "    ax = ax or plt.gca()\n",
        "    ax.scatter(X[:, 0], X[:, 1], c=y, s=50, cmap='autumn')\n",
        "    ax.set_xlim(-1, 4)\n",
        "    ax.set_ylim(-1, 6)\n",
        "    plot_svc_decision_function(model, ax)"
      ]
    },
    {
      "cell_type": "markdown",
      "source": [
        "Chúng ta có thể thấy sự thay đổi của mô hình khi được học lần lượt từ 10, 60, 120 và 200 điểm"
      ],
      "metadata": {
        "id": "4kZH0U2yZJFi"
      }
    },
    {
      "cell_type": "code",
      "execution_count": 10,
      "metadata": {
        "id": "JeMFrcJwRbB8",
        "outputId": "2826927a-75c5-4872-e913-e95659fd74f4",
        "colab": {
          "base_uri": "https://localhost:8080/",
          "height": 304,
          "referenced_widgets": [
            "1ecda477cafa4e03bb3690bf351de1db",
            "385783895e6e40ff83ca98a07fbe7d6d",
            "cf1e6c077d214ac2ad56b2e578233b64",
            "6d369f5675ba4a1484eb9002ab14becf",
            "d724ff8ac40143ff8c41fc85679c29b1",
            "70ac8676901b4b0b8ad07f743e8369ba",
            "7772fed16f204f2da4c6fae723f36b13"
          ]
        }
      },
      "outputs": [
        {
          "output_type": "display_data",
          "data": {
            "application/vnd.jupyter.widget-view+json": {
              "model_id": "1ecda477cafa4e03bb3690bf351de1db",
              "version_minor": 0,
              "version_major": 2
            },
            "text/plain": [
              "interactive(children=(Dropdown(description='N', options=(10, 60, 120, 200), value=10), Output()), _dom_classes…"
            ]
          },
          "metadata": {}
        }
      ],
      "source": [
        "from ipywidgets import interact, fixed\n",
        "interact(plot_svm, N=[10,60,120, 200], ax=fixed(None));"
      ]
    },
    {
      "cell_type": "markdown",
      "source": [
        "Ở 60 và 120 điểm dữ liệu chúng ta có thể thấy mặc dù số điểm dữ liệu tăng lên gấp đôi nhưng model vẫn không thay đổi. Đó là do model được quyết định bởi các support vector (ở đây là điểm trong không gian 2 chiều)."
      ],
      "metadata": {
        "id": "NjO19j9yZeEp"
      }
    },
    {
      "cell_type": "markdown",
      "metadata": {
        "id": "AAkk8eOyRbB-"
      },
      "source": [
        "## 2.Soft Margin SVM\n",
        "\n",
        "Không phải lúc phải lúc nào cũng có thể phân chia dữ liệu 1 cách hoàn hảo chỉ với 1 đường."
      ]
    },
    {
      "cell_type": "code",
      "execution_count": 11,
      "metadata": {
        "id": "sFiOeJ0qRbB-",
        "outputId": "5ae11378-921a-4a04-e1f8-b8b6a6fc51f4",
        "colab": {
          "base_uri": "https://localhost:8080/",
          "height": 268
        }
      },
      "outputs": [
        {
          "output_type": "display_data",
          "data": {
            "image/png": "[encoded data removed]",
            "text/plain": [
              "<Figure size 432x288 with 1 Axes>"
            ]
          },
          "metadata": {
            "needs_background": "light"
          }
        }
      ],
      "source": [
        "X, y = make_blobs(n_samples=100, centers=2,\n",
        "                  random_state=0, cluster_std=1.0)\n",
        "plt.scatter(X[:, 0], X[:, 1], c=y, s=50, cmap='autumn');"
      ]
    },
    {
      "cell_type": "markdown",
      "source": [
        "Trong trường hợp trên SVM thuần sẽ không hoạt động hiệu quả.\n",
        "Vì vậy, cần một biến thể của Hard Margin SVM có tên gọi là Soft Margin SVM.\n",
        "Tức là ta sẽ cho phép hy sinh một số điểm nhiễu và cho chúng chui vào lề nếu điều đó tạo ra được một margin tốt hơn"
      ],
      "metadata": {
        "id": "EMyXRaIxbx6B"
      }
    },
    {
      "cell_type": "code",
      "execution_count": 12,
      "metadata": {
        "id": "A9r2Jen3RbB_",
        "outputId": "c4b267ac-2a34-4fd1-9232-77266bf2af7d",
        "colab": {
          "base_uri": "https://localhost:8080/",
          "height": 246
        }
      },
      "outputs": [
        {
          "output_type": "display_data",
          "data": {
            "image/png": "[encoded data removed]",
            "text/plain": [
              "<Figure size 1152x432 with 2 Axes>"
            ]
          },
          "metadata": {
            "needs_background": "light"
          }
        }
      ],
      "source": [
        "fig, ax = plt.subplots(1, 2, figsize=(16, 6))\n",
        "fig.subplots_adjust(left=0.0625, right=0.95, wspace=0.1)\n",
        "\n",
        "for axi, C in zip(ax, [10.0, 0.1]):\n",
        "    model = SVC(kernel='linear', C=C).fit(X, y)\n",
        "    axi.scatter(X[:, 0], X[:, 1], c=y, s=50, cmap='autumn')\n",
        "    plot_svc_decision_function(model, axi)\n",
        "    axi.scatter(model.support_vectors_[:, 0],\n",
        "                model.support_vectors_[:, 1],\n",
        "                s=300, lw=1, facecolors='none');\n",
        "    axi.set_title('C = {0:.1f}'.format(C), size=14)"
      ]
    },
    {
      "cell_type": "markdown",
      "metadata": {
        "id": "XT48U4d0RbB_"
      },
      "source": [
        "Trong SVM độ cứng của lề được kiểm soát bởi một tham số gọi là $ C $.\n",
        "Tham số này được coi là siêu tham số và được dùng để tune model SVM\n"
      ]
    },
    {
      "cell_type": "markdown",
      "source": [
        "##Example: breast cancer classification\n"
      ],
      "metadata": {
        "id": "pCl6uULOfew_"
      }
    },
    {
      "cell_type": "code",
      "source": [
        "import pandas as pd\n",
        "from sklearn.model_selection import train_test_split"
      ],
      "metadata": {
        "id": "TMpGy9J--ku4"
      },
      "execution_count": 58,
      "outputs": []
    },
    {
      "cell_type": "code",
      "source": [
        "data_dir = '/content/CS115/data/BCW/data.csv'\n",
        "df = pd.read_csv(data_dir)  # Dataset - Breast Cancer Wisconsin Data (Ung thư vú Wisconsin)\n",
        "df.head()  ##Hiển thị 5 hàng đầu\n"
      ],
      "metadata": {
        "colab": {
          "base_uri": "https://localhost:8080/",
          "height": 287
        },
        "id": "olKp_We_-nX3",
        "outputId": "4977b933-b22f-489a-937e-cd272e8efc3f"
      },
      "execution_count": 59,
      "outputs": [
        {
          "output_type": "execute_result",
          "data": {
            "text/html": [
              "\n",
              "  <div id=\"df-b07bd954-4f3d-45a9-94a9-c86d598e70f0\">\n",
              "    <div class=\"colab-df-container\">\n",
              "      <div>\n",
              "<style scoped>\n",
              "    .dataframe tbody tr th:only-of-type {\n",
              "        vertical-align: middle;\n",
              "    }\n",
              "\n",
              "    .dataframe tbody tr th {\n",
              "        vertical-align: top;\n",
              "    }\n",
              "\n",
              "    .dataframe thead th {\n",
              "        text-align: right;\n",
              "    }\n",
              "</style>\n",
              "<table border=\"1\" class=\"dataframe\">\n",
              "  <thead>\n",
              "    <tr style=\"text-align: right;\">\n",
              "      <th></th>\n",
              "      <th>id</th>\n",
              "      <th>diagnosis</th>\n",
              "      <th>radius_mean</th>\n",
              "      <th>texture_mean</th>\n",
              "      <th>perimeter_mean</th>\n",
              "      <th>area_mean</th>\n",
              "      <th>smoothness_mean</th>\n",
              "      <th>compactness_mean</th>\n",
              "      <th>concavity_mean</th>\n",
              "      <th>concave points_mean</th>\n",
              "      <th>symmetry_mean</th>\n",
              "      <th>fractal_dimension_mean</th>\n",
              "      <th>radius_se</th>\n",
              "      <th>texture_se</th>\n",
              "      <th>perimeter_se</th>\n",
              "      <th>area_se</th>\n",
              "      <th>smoothness_se</th>\n",
              "      <th>compactness_se</th>\n",
              "      <th>concavity_se</th>\n",
              "      <th>concave points_se</th>\n",
              "      <th>symmetry_se</th>\n",
              "      <th>fractal_dimension_se</th>\n",
              "      <th>radius_worst</th>\n",
              "      <th>texture_worst</th>\n",
              "      <th>perimeter_worst</th>\n",
              "      <th>area_worst</th>\n",
              "      <th>smoothness_worst</th>\n",
              "      <th>compactness_worst</th>\n",
              "      <th>concavity_worst</th>\n",
              "      <th>concave points_worst</th>\n",
              "      <th>symmetry_worst</th>\n",
              "      <th>fractal_dimension_worst</th>\n",
              "      <th>Unnamed: 32</th>\n",
              "    </tr>\n",
              "  </thead>\n",
              "  <tbody>\n",
              "    <tr>\n",
              "      <th>0</th>\n",
              "      <td>842302</td>\n",
              "      <td>M</td>\n",
              "      <td>17.99</td>\n",
              "      <td>10.38</td>\n",
              "      <td>122.80</td>\n",
              "      <td>1001.0</td>\n",
              "      <td>0.11840</td>\n",
              "      <td>0.27760</td>\n",
              "      <td>0.3001</td>\n",
              "      <td>0.14710</td>\n",
              "      <td>0.2419</td>\n",
              "      <td>0.07871</td>\n",
              "      <td>1.0950</td>\n",
              "      <td>0.9053</td>\n",
              "      <td>8.589</td>\n",
              "      <td>153.40</td>\n",
              "      <td>0.006399</td>\n",
              "      <td>0.04904</td>\n",
              "      <td>0.05373</td>\n",
              "      <td>0.01587</td>\n",
              "      <td>0.03003</td>\n",
              "      <td>0.006193</td>\n",
              "      <td>25.38</td>\n",
              "      <td>17.33</td>\n",
              "      <td>184.60</td>\n",
              "      <td>2019.0</td>\n",
              "      <td>0.1622</td>\n",
              "      <td>0.6656</td>\n",
              "      <td>0.7119</td>\n",
              "      <td>0.2654</td>\n",
              "      <td>0.4601</td>\n",
              "      <td>0.11890</td>\n",
              "      <td>NaN</td>\n",
              "    </tr>\n",
              "    <tr>\n",
              "      <th>1</th>\n",
              "      <td>842517</td>\n",
              "      <td>M</td>\n",
              "      <td>20.57</td>\n",
              "      <td>17.77</td>\n",
              "      <td>132.90</td>\n",
              "      <td>1326.0</td>\n",
              "      <td>0.08474</td>\n",
              "      <td>0.07864</td>\n",
              "      <td>0.0869</td>\n",
              "      <td>0.07017</td>\n",
              "      <td>0.1812</td>\n",
              "      <td>0.05667</td>\n",
              "      <td>0.5435</td>\n",
              "      <td>0.7339</td>\n",
              "      <td>3.398</td>\n",
              "      <td>74.08</td>\n",
              "      <td>0.005225</td>\n",
              "      <td>0.01308</td>\n",
              "      <td>0.01860</td>\n",
              "      <td>0.01340</td>\n",
              "      <td>0.01389</td>\n",
              "      <td>0.003532</td>\n",
              "      <td>24.99</td>\n",
              "      <td>23.41</td>\n",
              "      <td>158.80</td>\n",
              "      <td>1956.0</td>\n",
              "      <td>0.1238</td>\n",
              "      <td>0.1866</td>\n",
              "      <td>0.2416</td>\n",
              "      <td>0.1860</td>\n",
              "      <td>0.2750</td>\n",
              "      <td>0.08902</td>\n",
              "      <td>NaN</td>\n",
              "    </tr>\n",
              "    <tr>\n",
              "      <th>2</th>\n",
              "      <td>84300903</td>\n",
              "      <td>M</td>\n",
              "      <td>19.69</td>\n",
              "      <td>21.25</td>\n",
              "      <td>130.00</td>\n",
              "      <td>1203.0</td>\n",
              "      <td>0.10960</td>\n",
              "      <td>0.15990</td>\n",
              "      <td>0.1974</td>\n",
              "      <td>0.12790</td>\n",
              "      <td>0.2069</td>\n",
              "      <td>0.05999</td>\n",
              "      <td>0.7456</td>\n",
              "      <td>0.7869</td>\n",
              "      <td>4.585</td>\n",
              "      <td>94.03</td>\n",
              "      <td>0.006150</td>\n",
              "      <td>0.04006</td>\n",
              "      <td>0.03832</td>\n",
              "      <td>0.02058</td>\n",
              "      <td>0.02250</td>\n",
              "      <td>0.004571</td>\n",
              "      <td>23.57</td>\n",
              "      <td>25.53</td>\n",
              "      <td>152.50</td>\n",
              "      <td>1709.0</td>\n",
              "      <td>0.1444</td>\n",
              "      <td>0.4245</td>\n",
              "      <td>0.4504</td>\n",
              "      <td>0.2430</td>\n",
              "      <td>0.3613</td>\n",
              "      <td>0.08758</td>\n",
              "      <td>NaN</td>\n",
              "    </tr>\n",
              "    <tr>\n",
              "      <th>3</th>\n",
              "      <td>84348301</td>\n",
              "      <td>M</td>\n",
              "      <td>11.42</td>\n",
              "      <td>20.38</td>\n",
              "      <td>77.58</td>\n",
              "      <td>386.1</td>\n",
              "      <td>0.14250</td>\n",
              "      <td>0.28390</td>\n",
              "      <td>0.2414</td>\n",
              "      <td>0.10520</td>\n",
              "      <td>0.2597</td>\n",
              "      <td>0.09744</td>\n",
              "      <td>0.4956</td>\n",
              "      <td>1.1560</td>\n",
              "      <td>3.445</td>\n",
              "      <td>27.23</td>\n",
              "      <td>0.009110</td>\n",
              "      <td>0.07458</td>\n",
              "      <td>0.05661</td>\n",
              "      <td>0.01867</td>\n",
              "      <td>0.05963</td>\n",
              "      <td>0.009208</td>\n",
              "      <td>14.91</td>\n",
              "      <td>26.50</td>\n",
              "      <td>98.87</td>\n",
              "      <td>567.7</td>\n",
              "      <td>0.2098</td>\n",
              "      <td>0.8663</td>\n",
              "      <td>0.6869</td>\n",
              "      <td>0.2575</td>\n",
              "      <td>0.6638</td>\n",
              "      <td>0.17300</td>\n",
              "      <td>NaN</td>\n",
              "    </tr>\n",
              "    <tr>\n",
              "      <th>4</th>\n",
              "      <td>84358402</td>\n",
              "      <td>M</td>\n",
              "      <td>20.29</td>\n",
              "      <td>14.34</td>\n",
              "      <td>135.10</td>\n",
              "      <td>1297.0</td>\n",
              "      <td>0.10030</td>\n",
              "      <td>0.13280</td>\n",
              "      <td>0.1980</td>\n",
              "      <td>0.10430</td>\n",
              "      <td>0.1809</td>\n",
              "      <td>0.05883</td>\n",
              "      <td>0.7572</td>\n",
              "      <td>0.7813</td>\n",
              "      <td>5.438</td>\n",
              "      <td>94.44</td>\n",
              "      <td>0.011490</td>\n",
              "      <td>0.02461</td>\n",
              "      <td>0.05688</td>\n",
              "      <td>0.01885</td>\n",
              "      <td>0.01756</td>\n",
              "      <td>0.005115</td>\n",
              "      <td>22.54</td>\n",
              "      <td>16.67</td>\n",
              "      <td>152.20</td>\n",
              "      <td>1575.0</td>\n",
              "      <td>0.1374</td>\n",
              "      <td>0.2050</td>\n",
              "      <td>0.4000</td>\n",
              "      <td>0.1625</td>\n",
              "      <td>0.2364</td>\n",
              "      <td>0.07678</td>\n",
              "      <td>NaN</td>\n",
              "    </tr>\n",
              "  </tbody>\n",
              "</table>\n",
              "</div>\n",
              "      <button class=\"colab-df-convert\" onclick=\"convertToInteractive('df-b07bd954-4f3d-45a9-94a9-c86d598e70f0')\"\n",
              "              title=\"Convert this dataframe to an interactive table.\"\n",
              "              style=\"display:none;\">\n",
              "        \n",
              "  <svg xmlns=\"http://www.w3.org/2000/svg\" height=\"24px\"viewBox=\"0 0 24 24\"\n",
              "       width=\"24px\">\n",
              "    <path d=\"M0 0h24v24H0V0z\" fill=\"none\"/>\n",
              "    <path d=\"M18.56 5.44l.94 2.06.94-2.06 2.06-.94-2.06-.94-.94-2.06-.94 2.06-2.06.94zm-11 1L8.5 8.5l.94-2.06 2.06-.94-2.06-.94L8.5 2.5l-.94 2.06-2.06.94zm10 10l.94 2.06.94-2.06 2.06-.94-2.06-.94-.94-2.06-.94 2.06-2.06.94z\"/><path d=\"M17.41 7.96l-1.37-1.37c-.4-.4-.92-.59-1.43-.59-.52 0-1.04.2-1.43.59L10.3 9.45l-7.72 7.72c-.78.78-.78 2.05 0 2.83L4 21.41c.39.39.9.59 1.41.59.51 0 1.02-.2 1.41-.59l7.78-7.78 2.81-2.81c.8-.78.8-2.07 0-2.86zM5.41 20L4 18.59l7.72-7.72 1.47 1.35L5.41 20z\"/>\n",
              "  </svg>\n",
              "      </button>\n",
              "      \n",
              "  <style>\n",
              "    .colab-df-container {\n",
              "      display:flex;\n",
              "      flex-wrap:wrap;\n",
              "      gap: 12px;\n",
              "    }\n",
              "\n",
              "    .colab-df-convert {\n",
              "      background-color: #E8F0FE;\n",
              "      border: none;\n",
              "      border-radius: 50%;\n",
              "      cursor: pointer;\n",
              "      display: none;\n",
              "      fill: #1967D2;\n",
              "      height: 32px;\n",
              "      padding: 0 0 0 0;\n",
              "      width: 32px;\n",
              "    }\n",
              "\n",
              "    .colab-df-convert:hover {\n",
              "      background-color: #E2EBFA;\n",
              "      box-shadow: 0px 1px 2px rgba(60, 64, 67, 0.3), 0px 1px 3px 1px rgba(60, 64, 67, 0.15);\n",
              "      fill: #174EA6;\n",
              "    }\n",
              "\n",
              "    [theme=dark] .colab-df-convert {\n",
              "      background-color: #3B4455;\n",
              "      fill: #D2E3FC;\n",
              "    }\n",
              "\n",
              "    [theme=dark] .colab-df-convert:hover {\n",
              "      background-color: #434B5C;\n",
              "      box-shadow: 0px 1px 3px 1px rgba(0, 0, 0, 0.15);\n",
              "      filter: drop-shadow(0px 1px 2px rgba(0, 0, 0, 0.3));\n",
              "      fill: #FFFFFF;\n",
              "    }\n",
              "  </style>\n",
              "\n",
              "      <script>\n",
              "        const buttonEl =\n",
              "          document.querySelector('#df-b07bd954-4f3d-45a9-94a9-c86d598e70f0 button.colab-df-convert');\n",
              "        buttonEl.style.display =\n",
              "          google.colab.kernel.accessAllowed ? 'block' : 'none';\n",
              "\n",
              "        async function convertToInteractive(key) {\n",
              "          const element = document.querySelector('#df-b07bd954-4f3d-45a9-94a9-c86d598e70f0');\n",
              "          const dataTable =\n",
              "            await google.colab.kernel.invokeFunction('convertToInteractive',\n",
              "                                                     [key], {});\n",
              "          if (!dataTable) return;\n",
              "\n",
              "          const docLinkHtml = 'Like what you see? Visit the ' +\n",
              "            '<a target=\"_blank\" href=https://colab.research.google.com/notebooks/data_table.ipynb>data table notebook</a>'\n",
              "            + ' to learn more about interactive tables.';\n",
              "          element.innerHTML = '';\n",
              "          dataTable['output_type'] = 'display_data';\n",
              "          await google.colab.output.renderOutput(dataTable, element);\n",
              "          const docLink = document.createElement('div');\n",
              "          docLink.innerHTML = docLinkHtml;\n",
              "          element.appendChild(docLink);\n",
              "        }\n",
              "      </script>\n",
              "    </div>\n",
              "  </div>\n",
              "  "
            ],
            "text/plain": [
              "         id diagnosis  ...  fractal_dimension_worst  Unnamed: 32\n",
              "0    842302         M  ...                  0.11890          NaN\n",
              "1    842517         M  ...                  0.08902          NaN\n",
              "2  84300903         M  ...                  0.08758          NaN\n",
              "3  84348301         M  ...                  0.17300          NaN\n",
              "4  84358402         M  ...                  0.07678          NaN\n",
              "\n",
              "[5 rows x 33 columns]"
            ]
          },
          "metadata": {},
          "execution_count": 59
        }
      ]
    },
    {
      "cell_type": "code",
      "source": [
        "# Label encoding - just simple :>\n",
        "df['diagnosis'] = df['diagnosis'].map({\n",
        "    'M': 1, # Label = 1 for Malignant (Ác tính)\n",
        "    'B': 2  # Label = 2 for Benign (Lành tính)\n",
        "})\n",
        "labels = df['diagnosis'].tolist()\n",
        "df['Class'] = labels  #Thêm một cột class ở cuối\n",
        "df = df.drop(['id', 'Unnamed: 32', 'diagnosis'],\n",
        "             axis=1)  #Xóa các cột không cần thiết\n",
        "target_names = ['', 'M', 'B']\n",
        "df['attack_type'] = df.Class.apply(lambda x: target_names[x])\n",
        "df.head()  #Hiển thị 5 hàng đầu"
      ],
      "metadata": {
        "colab": {
          "base_uri": "https://localhost:8080/",
          "height": 287
        },
        "id": "LFIJKEM_-6kf",
        "outputId": "8305eb4e-048f-42da-c3d2-5bb0d67887f4"
      },
      "execution_count": 60,
      "outputs": [
        {
          "output_type": "execute_result",
          "data": {
            "text/html": [
              "\n",
              "  <div id=\"df-c526ca43-666d-4e7d-87d4-44e09441d4e5\">\n",
              "    <div class=\"colab-df-container\">\n",
              "      <div>\n",
              "<style scoped>\n",
              "    .dataframe tbody tr th:only-of-type {\n",
              "        vertical-align: middle;\n",
              "    }\n",
              "\n",
              "    .dataframe tbody tr th {\n",
              "        vertical-align: top;\n",
              "    }\n",
              "\n",
              "    .dataframe thead th {\n",
              "        text-align: right;\n",
              "    }\n",
              "</style>\n",
              "<table border=\"1\" class=\"dataframe\">\n",
              "  <thead>\n",
              "    <tr style=\"text-align: right;\">\n",
              "      <th></th>\n",
              "      <th>radius_mean</th>\n",
              "      <th>texture_mean</th>\n",
              "      <th>perimeter_mean</th>\n",
              "      <th>area_mean</th>\n",
              "      <th>smoothness_mean</th>\n",
              "      <th>compactness_mean</th>\n",
              "      <th>concavity_mean</th>\n",
              "      <th>concave points_mean</th>\n",
              "      <th>symmetry_mean</th>\n",
              "      <th>fractal_dimension_mean</th>\n",
              "      <th>radius_se</th>\n",
              "      <th>texture_se</th>\n",
              "      <th>perimeter_se</th>\n",
              "      <th>area_se</th>\n",
              "      <th>smoothness_se</th>\n",
              "      <th>compactness_se</th>\n",
              "      <th>concavity_se</th>\n",
              "      <th>concave points_se</th>\n",
              "      <th>symmetry_se</th>\n",
              "      <th>fractal_dimension_se</th>\n",
              "      <th>radius_worst</th>\n",
              "      <th>texture_worst</th>\n",
              "      <th>perimeter_worst</th>\n",
              "      <th>area_worst</th>\n",
              "      <th>smoothness_worst</th>\n",
              "      <th>compactness_worst</th>\n",
              "      <th>concavity_worst</th>\n",
              "      <th>concave points_worst</th>\n",
              "      <th>symmetry_worst</th>\n",
              "      <th>fractal_dimension_worst</th>\n",
              "      <th>Class</th>\n",
              "      <th>attack_type</th>\n",
              "    </tr>\n",
              "  </thead>\n",
              "  <tbody>\n",
              "    <tr>\n",
              "      <th>0</th>\n",
              "      <td>17.99</td>\n",
              "      <td>10.38</td>\n",
              "      <td>122.80</td>\n",
              "      <td>1001.0</td>\n",
              "      <td>0.11840</td>\n",
              "      <td>0.27760</td>\n",
              "      <td>0.3001</td>\n",
              "      <td>0.14710</td>\n",
              "      <td>0.2419</td>\n",
              "      <td>0.07871</td>\n",
              "      <td>1.0950</td>\n",
              "      <td>0.9053</td>\n",
              "      <td>8.589</td>\n",
              "      <td>153.40</td>\n",
              "      <td>0.006399</td>\n",
              "      <td>0.04904</td>\n",
              "      <td>0.05373</td>\n",
              "      <td>0.01587</td>\n",
              "      <td>0.03003</td>\n",
              "      <td>0.006193</td>\n",
              "      <td>25.38</td>\n",
              "      <td>17.33</td>\n",
              "      <td>184.60</td>\n",
              "      <td>2019.0</td>\n",
              "      <td>0.1622</td>\n",
              "      <td>0.6656</td>\n",
              "      <td>0.7119</td>\n",
              "      <td>0.2654</td>\n",
              "      <td>0.4601</td>\n",
              "      <td>0.11890</td>\n",
              "      <td>1</td>\n",
              "      <td>M</td>\n",
              "    </tr>\n",
              "    <tr>\n",
              "      <th>1</th>\n",
              "      <td>20.57</td>\n",
              "      <td>17.77</td>\n",
              "      <td>132.90</td>\n",
              "      <td>1326.0</td>\n",
              "      <td>0.08474</td>\n",
              "      <td>0.07864</td>\n",
              "      <td>0.0869</td>\n",
              "      <td>0.07017</td>\n",
              "      <td>0.1812</td>\n",
              "      <td>0.05667</td>\n",
              "      <td>0.5435</td>\n",
              "      <td>0.7339</td>\n",
              "      <td>3.398</td>\n",
              "      <td>74.08</td>\n",
              "      <td>0.005225</td>\n",
              "      <td>0.01308</td>\n",
              "      <td>0.01860</td>\n",
              "      <td>0.01340</td>\n",
              "      <td>0.01389</td>\n",
              "      <td>0.003532</td>\n",
              "      <td>24.99</td>\n",
              "      <td>23.41</td>\n",
              "      <td>158.80</td>\n",
              "      <td>1956.0</td>\n",
              "      <td>0.1238</td>\n",
              "      <td>0.1866</td>\n",
              "      <td>0.2416</td>\n",
              "      <td>0.1860</td>\n",
              "      <td>0.2750</td>\n",
              "      <td>0.08902</td>\n",
              "      <td>1</td>\n",
              "      <td>M</td>\n",
              "    </tr>\n",
              "    <tr>\n",
              "      <th>2</th>\n",
              "      <td>19.69</td>\n",
              "      <td>21.25</td>\n",
              "      <td>130.00</td>\n",
              "      <td>1203.0</td>\n",
              "      <td>0.10960</td>\n",
              "      <td>0.15990</td>\n",
              "      <td>0.1974</td>\n",
              "      <td>0.12790</td>\n",
              "      <td>0.2069</td>\n",
              "      <td>0.05999</td>\n",
              "      <td>0.7456</td>\n",
              "      <td>0.7869</td>\n",
              "      <td>4.585</td>\n",
              "      <td>94.03</td>\n",
              "      <td>0.006150</td>\n",
              "      <td>0.04006</td>\n",
              "      <td>0.03832</td>\n",
              "      <td>0.02058</td>\n",
              "      <td>0.02250</td>\n",
              "      <td>0.004571</td>\n",
              "      <td>23.57</td>\n",
              "      <td>25.53</td>\n",
              "      <td>152.50</td>\n",
              "      <td>1709.0</td>\n",
              "      <td>0.1444</td>\n",
              "      <td>0.4245</td>\n",
              "      <td>0.4504</td>\n",
              "      <td>0.2430</td>\n",
              "      <td>0.3613</td>\n",
              "      <td>0.08758</td>\n",
              "      <td>1</td>\n",
              "      <td>M</td>\n",
              "    </tr>\n",
              "    <tr>\n",
              "      <th>3</th>\n",
              "      <td>11.42</td>\n",
              "      <td>20.38</td>\n",
              "      <td>77.58</td>\n",
              "      <td>386.1</td>\n",
              "      <td>0.14250</td>\n",
              "      <td>0.28390</td>\n",
              "      <td>0.2414</td>\n",
              "      <td>0.10520</td>\n",
              "      <td>0.2597</td>\n",
              "      <td>0.09744</td>\n",
              "      <td>0.4956</td>\n",
              "      <td>1.1560</td>\n",
              "      <td>3.445</td>\n",
              "      <td>27.23</td>\n",
              "      <td>0.009110</td>\n",
              "      <td>0.07458</td>\n",
              "      <td>0.05661</td>\n",
              "      <td>0.01867</td>\n",
              "      <td>0.05963</td>\n",
              "      <td>0.009208</td>\n",
              "      <td>14.91</td>\n",
              "      <td>26.50</td>\n",
              "      <td>98.87</td>\n",
              "      <td>567.7</td>\n",
              "      <td>0.2098</td>\n",
              "      <td>0.8663</td>\n",
              "      <td>0.6869</td>\n",
              "      <td>0.2575</td>\n",
              "      <td>0.6638</td>\n",
              "      <td>0.17300</td>\n",
              "      <td>1</td>\n",
              "      <td>M</td>\n",
              "    </tr>\n",
              "    <tr>\n",
              "      <th>4</th>\n",
              "      <td>20.29</td>\n",
              "      <td>14.34</td>\n",
              "      <td>135.10</td>\n",
              "      <td>1297.0</td>\n",
              "      <td>0.10030</td>\n",
              "      <td>0.13280</td>\n",
              "      <td>0.1980</td>\n",
              "      <td>0.10430</td>\n",
              "      <td>0.1809</td>\n",
              "      <td>0.05883</td>\n",
              "      <td>0.7572</td>\n",
              "      <td>0.7813</td>\n",
              "      <td>5.438</td>\n",
              "      <td>94.44</td>\n",
              "      <td>0.011490</td>\n",
              "      <td>0.02461</td>\n",
              "      <td>0.05688</td>\n",
              "      <td>0.01885</td>\n",
              "      <td>0.01756</td>\n",
              "      <td>0.005115</td>\n",
              "      <td>22.54</td>\n",
              "      <td>16.67</td>\n",
              "      <td>152.20</td>\n",
              "      <td>1575.0</td>\n",
              "      <td>0.1374</td>\n",
              "      <td>0.2050</td>\n",
              "      <td>0.4000</td>\n",
              "      <td>0.1625</td>\n",
              "      <td>0.2364</td>\n",
              "      <td>0.07678</td>\n",
              "      <td>1</td>\n",
              "      <td>M</td>\n",
              "    </tr>\n",
              "  </tbody>\n",
              "</table>\n",
              "</div>\n",
              "      <button class=\"colab-df-convert\" onclick=\"convertToInteractive('df-c526ca43-666d-4e7d-87d4-44e09441d4e5')\"\n",
              "              title=\"Convert this dataframe to an interactive table.\"\n",
              "              style=\"display:none;\">\n",
              "        \n",
              "  <svg xmlns=\"http://www.w3.org/2000/svg\" height=\"24px\"viewBox=\"0 0 24 24\"\n",
              "       width=\"24px\">\n",
              "    <path d=\"M0 0h24v24H0V0z\" fill=\"none\"/>\n",
              "    <path d=\"M18.56 5.44l.94 2.06.94-2.06 2.06-.94-2.06-.94-.94-2.06-.94 2.06-2.06.94zm-11 1L8.5 8.5l.94-2.06 2.06-.94-2.06-.94L8.5 2.5l-.94 2.06-2.06.94zm10 10l.94 2.06.94-2.06 2.06-.94-2.06-.94-.94-2.06-.94 2.06-2.06.94z\"/><path d=\"M17.41 7.96l-1.37-1.37c-.4-.4-.92-.59-1.43-.59-.52 0-1.04.2-1.43.59L10.3 9.45l-7.72 7.72c-.78.78-.78 2.05 0 2.83L4 21.41c.39.39.9.59 1.41.59.51 0 1.02-.2 1.41-.59l7.78-7.78 2.81-2.81c.8-.78.8-2.07 0-2.86zM5.41 20L4 18.59l7.72-7.72 1.47 1.35L5.41 20z\"/>\n",
              "  </svg>\n",
              "      </button>\n",
              "      \n",
              "  <style>\n",
              "    .colab-df-container {\n",
              "      display:flex;\n",
              "      flex-wrap:wrap;\n",
              "      gap: 12px;\n",
              "    }\n",
              "\n",
              "    .colab-df-convert {\n",
              "      background-color: #E8F0FE;\n",
              "      border: none;\n",
              "      border-radius: 50%;\n",
              "      cursor: pointer;\n",
              "      display: none;\n",
              "      fill: #1967D2;\n",
              "      height: 32px;\n",
              "      padding: 0 0 0 0;\n",
              "      width: 32px;\n",
              "    }\n",
              "\n",
              "    .colab-df-convert:hover {\n",
              "      background-color: #E2EBFA;\n",
              "      box-shadow: 0px 1px 2px rgba(60, 64, 67, 0.3), 0px 1px 3px 1px rgba(60, 64, 67, 0.15);\n",
              "      fill: #174EA6;\n",
              "    }\n",
              "\n",
              "    [theme=dark] .colab-df-convert {\n",
              "      background-color: #3B4455;\n",
              "      fill: #D2E3FC;\n",
              "    }\n",
              "\n",
              "    [theme=dark] .colab-df-convert:hover {\n",
              "      background-color: #434B5C;\n",
              "      box-shadow: 0px 1px 3px 1px rgba(0, 0, 0, 0.15);\n",
              "      filter: drop-shadow(0px 1px 2px rgba(0, 0, 0, 0.3));\n",
              "      fill: #FFFFFF;\n",
              "    }\n",
              "  </style>\n",
              "\n",
              "      <script>\n",
              "        const buttonEl =\n",
              "          document.querySelector('#df-c526ca43-666d-4e7d-87d4-44e09441d4e5 button.colab-df-convert');\n",
              "        buttonEl.style.display =\n",
              "          google.colab.kernel.accessAllowed ? 'block' : 'none';\n",
              "\n",
              "        async function convertToInteractive(key) {\n",
              "          const element = document.querySelector('#df-c526ca43-666d-4e7d-87d4-44e09441d4e5');\n",
              "          const dataTable =\n",
              "            await google.colab.kernel.invokeFunction('convertToInteractive',\n",
              "                                                     [key], {});\n",
              "          if (!dataTable) return;\n",
              "\n",
              "          const docLinkHtml = 'Like what you see? Visit the ' +\n",
              "            '<a target=\"_blank\" href=https://colab.research.google.com/notebooks/data_table.ipynb>data table notebook</a>'\n",
              "            + ' to learn more about interactive tables.';\n",
              "          element.innerHTML = '';\n",
              "          dataTable['output_type'] = 'display_data';\n",
              "          await google.colab.output.renderOutput(dataTable, element);\n",
              "          const docLink = document.createElement('div');\n",
              "          docLink.innerHTML = docLinkHtml;\n",
              "          element.appendChild(docLink);\n",
              "        }\n",
              "      </script>\n",
              "    </div>\n",
              "  </div>\n",
              "  "
            ],
            "text/plain": [
              "   radius_mean  texture_mean  ...  Class  attack_type\n",
              "0        17.99         10.38  ...      1            M\n",
              "1        20.57         17.77  ...      1            M\n",
              "2        19.69         21.25  ...      1            M\n",
              "3        11.42         20.38  ...      1            M\n",
              "4        20.29         14.34  ...      1            M\n",
              "\n",
              "[5 rows x 32 columns]"
            ]
          },
          "metadata": {},
          "execution_count": 60
        }
      ]
    },
    {
      "cell_type": "code",
      "source": [
        "X = df.drop(['Class', 'attack_type'], axis='columns')\n",
        "X.head()\n",
        "y = df.Class"
      ],
      "metadata": {
        "id": "B7Md6OAsAeQP"
      },
      "execution_count": 61,
      "outputs": []
    },
    {
      "cell_type": "code",
      "source": [
        "X_train, X_test, y_train, y_test = train_test_split(X, y, test_size=0.3)\n",
        "print(len(X_train))\n",
        "print(len(X_test))"
      ],
      "metadata": {
        "colab": {
          "base_uri": "https://localhost:8080/"
        },
        "id": "JvSf6mGMAmSt",
        "outputId": "71874800-676b-497b-e18e-3c15dbadbf62"
      },
      "execution_count": 62,
      "outputs": [
        {
          "output_type": "stream",
          "name": "stdout",
          "text": [
            "398\n",
            "171\n"
          ]
        }
      ]
    },
    {
      "cell_type": "code",
      "source": [
        "# Define 1 lineear SVM classifer\n",
        "from sklearn.svm import SVC\n",
        "model = SVC(C = 2.0, kernel='linear')"
      ],
      "metadata": {
        "id": "HZFAdm8VBnD2"
      },
      "execution_count": 63,
      "outputs": []
    },
    {
      "cell_type": "code",
      "source": [
        "model.fit(X_train, y_train)\n",
        "y_pred = model.predict(X_test)\n",
        "print(y_pred)"
      ],
      "metadata": {
        "colab": {
          "base_uri": "https://localhost:8080/"
        },
        "id": "CeJp8AwTBuzB",
        "outputId": "09a8ebfc-bc6e-4c1f-a962-56f2d1718c4a"
      },
      "execution_count": 64,
      "outputs": [
        {
          "output_type": "stream",
          "name": "stdout",
          "text": [
            "[2 2 2 1 2 2 1 2 1 1 2 2 2 1 2 2 1 2 2 2 2 2 1 2 2 2 2 2 1 2 1 1 2 2 2 1 2\n",
            " 2 2 1 2 1 2 2 2 1 2 2 2 2 2 1 2 1 1 1 2 2 2 2 2 1 1 1 2 2 1 2 1 2 1 2 1 1\n",
            " 1 1 2 1 2 2 2 2 2 2 2 1 2 2 2 2 2 1 2 1 2 1 1 1 2 2 2 2 2 1 1 2 2 2 2 1 1\n",
            " 2 2 2 2 2 2 2 2 2 1 2 2 1 2 1 2 2 2 2 2 1 2 2 2 1 1 2 2 1 1 1 2 2 2 1 2 1\n",
            " 2 2 1 2 1 2 2 2 2 1 2 1 2 1 1 1 1 2 2 2 2 1 2]\n"
          ]
        }
      ]
    },
    {
      "cell_type": "code",
      "source": [
        "# Đánh giá model = f1-score\n",
        "from sklearn.metrics import classification_report\n",
        "print(classification_report(y_test, y_pred))"
      ],
      "metadata": {
        "colab": {
          "base_uri": "https://localhost:8080/"
        },
        "id": "aKrMYhq-CQkj",
        "outputId": "a78e0d3a-4e1b-4f5b-cee6-d00ed0161fab"
      },
      "execution_count": 65,
      "outputs": [
        {
          "output_type": "stream",
          "name": "stdout",
          "text": [
            "              precision    recall  f1-score   support\n",
            "\n",
            "           1       0.98      0.92      0.95        63\n",
            "           2       0.96      0.99      0.97       108\n",
            "\n",
            "    accuracy                           0.96       171\n",
            "   macro avg       0.97      0.96      0.96       171\n",
            "weighted avg       0.97      0.96      0.96       171\n",
            "\n"
          ]
        }
      ]
    },
    {
      "cell_type": "markdown",
      "metadata": {
        "id": "k9-PDOVARbB8"
      },
      "source": [
        "## 3. Kernel SVM-Beyond linear boundaries\n",
        "\n",
        "SVM trở nên cực kỳ mạnh mẽ khi nó được kết hợp với * kernels *.\n",
        "\n",
        "Ở đó, chúng ta chiếu dữ liệu vào không gian có số chiều cao hơn và do đó có thể phù hợp với các mối quan hệ phi tuyến với bộ phân loại tuyến tính."
      ]
    },
    {
      "cell_type": "code",
      "execution_count": 66,
      "metadata": {
        "id": "SVbhBZ7eRbB9",
        "outputId": "ddad431b-e94f-4a54-8c16-08fd04bbbe77",
        "colab": {
          "base_uri": "https://localhost:8080/",
          "height": 268
        }
      },
      "outputs": [
        {
          "output_type": "display_data",
          "data": {
            "image/png": "[encoded data removed]",
            "text/plain": [
              "<Figure size 432x288 with 1 Axes>"
            ]
          },
          "metadata": {
            "needs_background": "light"
          }
        }
      ],
      "source": [
        "from sklearn.datasets import make_circles\n",
        "X, y = make_circles(100, factor=.1, noise=.1)\n",
        "\n",
        "clf = SVC(kernel='linear').fit(X, y)\n",
        "\n",
        "plt.scatter(X[:, 0], X[:, 1], c=y, s=50, cmap='autumn')\n",
        "plot_svc_decision_function(clf, plot_support=False);"
      ]
    },
    {
      "cell_type": "markdown",
      "metadata": {
        "id": "Gl57xEsJRbB9"
      },
      "source": [
        "Rõ ràng là không có bất kì một đường thẳng hay một sự phân loại tuyến tính nào có thể phân tách dữ liệu này.\n",
        "\n",
        "Nhưng chúng ta có thể suy nghĩ về cách chúng ta có thể chiếu dữ liệu vào một chiều không gian cao hơn.\n",
        "Ví dụ: một phép chiếu đơn giản mà chúng tôi có thể sử dụng sẽ là tính toán một **radial basis function** tập trung vào nhóm ở giữa:\n",
        "\n"
      ]
    },
    {
      "cell_type": "code",
      "execution_count": 67,
      "metadata": {
        "id": "nCS3L6EqRbB9"
      },
      "outputs": [],
      "source": [
        "r = np.exp(-(X ** 2).sum(1))"
      ]
    },
    {
      "cell_type": "markdown",
      "metadata": {
        "id": "ZfavN_nERbB9"
      },
      "source": [
        "\n",
        "Chúng ta có thể hình dung không gian dữ liệu mới này bằng cách sử dụng biểu đồ ba chiều"
      ]
    },
    {
      "cell_type": "code",
      "execution_count": 68,
      "metadata": {
        "id": "raZ49VaARbB9",
        "outputId": "b65c370f-ef81-428d-99bf-28d83a3337d6",
        "colab": {
          "base_uri": "https://localhost:8080/",
          "height": 312,
          "referenced_widgets": [
            "3125a2735dba4e798baff0ea7a3cf54c",
            "27bd1d2d49c64c22829ef15c0c1bdeac",
            "ee0f3af457aa4c5aa39c16a63eef14ee",
            "6b45645a81d647b7bc02743f664f6059",
            "7315faf5f39b4fb8a162bf60853b074b",
            "71a3669d77bf4d02b3c7c1ba68e6c35c",
            "f1012498cedc44c5862473ea21644ded",
            "726ad1dd2d91492cbf1d773e4b154e1c",
            "9ea020c0615849b3bf26ce3f80a5a8ae",
            "3ad1e48ff7ad4691bebbafb56037c1d4"
          ]
        }
      },
      "outputs": [
        {
          "output_type": "display_data",
          "data": {
            "application/vnd.jupyter.widget-view+json": {
              "model_id": "3125a2735dba4e798baff0ea7a3cf54c",
              "version_minor": 0,
              "version_major": 2
            },
            "text/plain": [
              "interactive(children=(IntSlider(value=30, description='elev', max=90, min=-30), IntSlider(value=30, descriptio…"
            ]
          },
          "metadata": {}
        }
      ],
      "source": [
        "from mpl_toolkits import mplot3d\n",
        "\n",
        "def plot_3D(elev=30, azim=30, X=X, y=y):\n",
        "    ax = plt.subplot(projection='3d')\n",
        "    ax.scatter3D(X[:, 0], X[:, 1], r, c=y, s=50, cmap='autumn')\n",
        "    ax.view_init(elev=elev, azim=azim)\n",
        "    ax.set_xlabel('x')\n",
        "    ax.set_ylabel('y')\n",
        "    ax.set_zlabel('r')\n",
        "\n",
        "interact(plot_3D, elev=30, azip=(-180, 180),\n",
        "         X=fixed(X), y=fixed(y));"
      ]
    },
    {
      "cell_type": "markdown",
      "source": [
        "Có thể thấy rằng khi chiếu qua không gian này, dữ liệu trở nên có thể phân tách tuyến tính một cách đáng kể, bằng cách vẽ một mặt phẳng giữa 2 cụm điểm. Vấn để ở việc phải chọn và điều chỉnh cẩn thận phép chiếu để có thể thấy đc sự phân tách rõ ràng như vậy.\n",
        "\n",
        "Một chiến lược cho bài toán này là tính toán một hàm radial basis function tại * mọi * điểm trong tập dữ liệu và để thuật toán SVM sàng lọc kết quả.\n",
        "Loại biến đổi hàm cơ sở này (basis function transformation) được gọi là * phép biến đổi nhân *, vì nó dựa trên mối quan hệ tương tự (hoặc nhân) giữa mỗi cặp điểm.\n",
        "\n",
        "Một vấn đề hiến lược này — chiếu $ N $ điểm vào $ N $ không gian — là nó có thể tiêu hao lượng chi phí tính toán khổng lồ khi $ N $ phát triển lớn.\n",
        "Tuy nhiên, nhờ *thủ thuật hạt nhân* (kernel trick), sự phức tạp đó đã đc giải quyết!\n"
      ],
      "metadata": {
        "id": "_FNffIJ6Ge06"
      }
    },
    {
      "cell_type": "code",
      "execution_count": 69,
      "metadata": {
        "id": "-n4IJ19XRbB-",
        "outputId": "a69ef385-5e0a-43bf-f2e9-28d8f434bbdd",
        "colab": {
          "base_uri": "https://localhost:8080/"
        }
      },
      "outputs": [
        {
          "output_type": "execute_result",
          "data": {
            "text/plain": [
              "SVC(C=1000000.0)"
            ]
          },
          "metadata": {},
          "execution_count": 69
        }
      ],
      "source": [
        "clf = SVC(kernel='rbf', C=1E6)\n",
        "clf.fit(X, y)"
      ]
    },
    {
      "cell_type": "markdown",
      "source": [
        "\n",
        "\n",
        "Trong Scikit-Learn, chúng ta có thể áp dụng Kernel SVM đơn giản bằng cách thay đổi kernel linear của chúng ta thành kernel RBF (Radial Basis Functiono)."
      ],
      "metadata": {
        "id": "NWD9Q-wjJ6ZS"
      }
    },
    {
      "cell_type": "code",
      "execution_count": 70,
      "metadata": {
        "id": "I5sYMqGmRbB-",
        "outputId": "bd60ad2c-443e-4359-e5be-40f604c27878",
        "colab": {
          "base_uri": "https://localhost:8080/",
          "height": 268
        }
      },
      "outputs": [
        {
          "output_type": "display_data",
          "data": {
            "image/png": "[encoded data removed]",
            "text/plain": [
              "<Figure size 432x288 with 1 Axes>"
            ]
          },
          "metadata": {
            "needs_background": "light"
          }
        }
      ],
      "source": [
        "plt.scatter(X[:, 0], X[:, 1], c=y, s=50, cmap='autumn')\n",
        "plot_svc_decision_function(clf)\n",
        "plt.scatter(clf.support_vectors_[:, 0], clf.support_vectors_[:, 1],\n",
        "            s=300, lw=1, facecolors='none');"
      ]
    },
    {
      "cell_type": "markdown",
      "metadata": {
        "id": "Ud9zDdoLRbB-"
      },
      "source": [
        "\n",
        "Sử dụng kernelized SVM này, mô hình có thể phân loại dữ liệu phi tuyến một cách phù hợp.\n",
        "Chiến lược kernel transformation này thường được sử dụng trong học máy để biến các phương pháp tuyến tính nhanh thành các phương pháp phi tuyến tính nhanh, đặc biệt là đối với các mô hình trong đó *kernel trick* có thể được sử dụng."
      ]
    },
    {
      "cell_type": "markdown",
      "source": [
        "##Example: Edible mushroom classification\n"
      ],
      "metadata": {
        "id": "tXfDrrvLMHtL"
      }
    },
    {
      "cell_type": "code",
      "source": [
        "df=pd.read_csv('/content/CS115/data/mushroom/mushrooms.csv')\n",
        "df.head()"
      ],
      "metadata": {
        "colab": {
          "base_uri": "https://localhost:8080/",
          "height": 322
        },
        "id": "b3l9x5LwLIGR",
        "outputId": "a48ce06e-3c30-4fa4-cc93-0d964001a529"
      },
      "execution_count": 71,
      "outputs": [
        {
          "output_type": "execute_result",
          "data": {
            "text/html": [
              "\n",
              "  <div id=\"df-6193edb4-35e6-4b39-baaf-069a1a12532d\">\n",
              "    <div class=\"colab-df-container\">\n",
              "      <div>\n",
              "<style scoped>\n",
              "    .dataframe tbody tr th:only-of-type {\n",
              "        vertical-align: middle;\n",
              "    }\n",
              "\n",
              "    .dataframe tbody tr th {\n",
              "        vertical-align: top;\n",
              "    }\n",
              "\n",
              "    .dataframe thead th {\n",
              "        text-align: right;\n",
              "    }\n",
              "</style>\n",
              "<table border=\"1\" class=\"dataframe\">\n",
              "  <thead>\n",
              "    <tr style=\"text-align: right;\">\n",
              "      <th></th>\n",
              "      <th>class</th>\n",
              "      <th>cap-shape</th>\n",
              "      <th>cap-surface</th>\n",
              "      <th>cap-color</th>\n",
              "      <th>bruises</th>\n",
              "      <th>odor</th>\n",
              "      <th>gill-attachment</th>\n",
              "      <th>gill-spacing</th>\n",
              "      <th>gill-size</th>\n",
              "      <th>gill-color</th>\n",
              "      <th>stalk-shape</th>\n",
              "      <th>stalk-root</th>\n",
              "      <th>stalk-surface-above-ring</th>\n",
              "      <th>stalk-surface-below-ring</th>\n",
              "      <th>stalk-color-above-ring</th>\n",
              "      <th>stalk-color-below-ring</th>\n",
              "      <th>veil-type</th>\n",
              "      <th>veil-color</th>\n",
              "      <th>ring-number</th>\n",
              "      <th>ring-type</th>\n",
              "      <th>spore-print-color</th>\n",
              "      <th>population</th>\n",
              "      <th>habitat</th>\n",
              "    </tr>\n",
              "  </thead>\n",
              "  <tbody>\n",
              "    <tr>\n",
              "      <th>0</th>\n",
              "      <td>p</td>\n",
              "      <td>x</td>\n",
              "      <td>s</td>\n",
              "      <td>n</td>\n",
              "      <td>t</td>\n",
              "      <td>p</td>\n",
              "      <td>f</td>\n",
              "      <td>c</td>\n",
              "      <td>n</td>\n",
              "      <td>k</td>\n",
              "      <td>e</td>\n",
              "      <td>e</td>\n",
              "      <td>s</td>\n",
              "      <td>s</td>\n",
              "      <td>w</td>\n",
              "      <td>w</td>\n",
              "      <td>p</td>\n",
              "      <td>w</td>\n",
              "      <td>o</td>\n",
              "      <td>p</td>\n",
              "      <td>k</td>\n",
              "      <td>s</td>\n",
              "      <td>u</td>\n",
              "    </tr>\n",
              "    <tr>\n",
              "      <th>1</th>\n",
              "      <td>e</td>\n",
              "      <td>x</td>\n",
              "      <td>s</td>\n",
              "      <td>y</td>\n",
              "      <td>t</td>\n",
              "      <td>a</td>\n",
              "      <td>f</td>\n",
              "      <td>c</td>\n",
              "      <td>b</td>\n",
              "      <td>k</td>\n",
              "      <td>e</td>\n",
              "      <td>c</td>\n",
              "      <td>s</td>\n",
              "      <td>s</td>\n",
              "      <td>w</td>\n",
              "      <td>w</td>\n",
              "      <td>p</td>\n",
              "      <td>w</td>\n",
              "      <td>o</td>\n",
              "      <td>p</td>\n",
              "      <td>n</td>\n",
              "      <td>n</td>\n",
              "      <td>g</td>\n",
              "    </tr>\n",
              "    <tr>\n",
              "      <th>2</th>\n",
              "      <td>e</td>\n",
              "      <td>b</td>\n",
              "      <td>s</td>\n",
              "      <td>w</td>\n",
              "      <td>t</td>\n",
              "      <td>l</td>\n",
              "      <td>f</td>\n",
              "      <td>c</td>\n",
              "      <td>b</td>\n",
              "      <td>n</td>\n",
              "      <td>e</td>\n",
              "      <td>c</td>\n",
              "      <td>s</td>\n",
              "      <td>s</td>\n",
              "      <td>w</td>\n",
              "      <td>w</td>\n",
              "      <td>p</td>\n",
              "      <td>w</td>\n",
              "      <td>o</td>\n",
              "      <td>p</td>\n",
              "      <td>n</td>\n",
              "      <td>n</td>\n",
              "      <td>m</td>\n",
              "    </tr>\n",
              "    <tr>\n",
              "      <th>3</th>\n",
              "      <td>p</td>\n",
              "      <td>x</td>\n",
              "      <td>y</td>\n",
              "      <td>w</td>\n",
              "      <td>t</td>\n",
              "      <td>p</td>\n",
              "      <td>f</td>\n",
              "      <td>c</td>\n",
              "      <td>n</td>\n",
              "      <td>n</td>\n",
              "      <td>e</td>\n",
              "      <td>e</td>\n",
              "      <td>s</td>\n",
              "      <td>s</td>\n",
              "      <td>w</td>\n",
              "      <td>w</td>\n",
              "      <td>p</td>\n",
              "      <td>w</td>\n",
              "      <td>o</td>\n",
              "      <td>p</td>\n",
              "      <td>k</td>\n",
              "      <td>s</td>\n",
              "      <td>u</td>\n",
              "    </tr>\n",
              "    <tr>\n",
              "      <th>4</th>\n",
              "      <td>e</td>\n",
              "      <td>x</td>\n",
              "      <td>s</td>\n",
              "      <td>g</td>\n",
              "      <td>f</td>\n",
              "      <td>n</td>\n",
              "      <td>f</td>\n",
              "      <td>w</td>\n",
              "      <td>b</td>\n",
              "      <td>k</td>\n",
              "      <td>t</td>\n",
              "      <td>e</td>\n",
              "      <td>s</td>\n",
              "      <td>s</td>\n",
              "      <td>w</td>\n",
              "      <td>w</td>\n",
              "      <td>p</td>\n",
              "      <td>w</td>\n",
              "      <td>o</td>\n",
              "      <td>e</td>\n",
              "      <td>n</td>\n",
              "      <td>a</td>\n",
              "      <td>g</td>\n",
              "    </tr>\n",
              "  </tbody>\n",
              "</table>\n",
              "</div>\n",
              "      <button class=\"colab-df-convert\" onclick=\"convertToInteractive('df-6193edb4-35e6-4b39-baaf-069a1a12532d')\"\n",
              "              title=\"Convert this dataframe to an interactive table.\"\n",
              "              style=\"display:none;\">\n",
              "        \n",
              "  <svg xmlns=\"http://www.w3.org/2000/svg\" height=\"24px\"viewBox=\"0 0 24 24\"\n",
              "       width=\"24px\">\n",
              "    <path d=\"M0 0h24v24H0V0z\" fill=\"none\"/>\n",
              "    <path d=\"M18.56 5.44l.94 2.06.94-2.06 2.06-.94-2.06-.94-.94-2.06-.94 2.06-2.06.94zm-11 1L8.5 8.5l.94-2.06 2.06-.94-2.06-.94L8.5 2.5l-.94 2.06-2.06.94zm10 10l.94 2.06.94-2.06 2.06-.94-2.06-.94-.94-2.06-.94 2.06-2.06.94z\"/><path d=\"M17.41 7.96l-1.37-1.37c-.4-.4-.92-.59-1.43-.59-.52 0-1.04.2-1.43.59L10.3 9.45l-7.72 7.72c-.78.78-.78 2.05 0 2.83L4 21.41c.39.39.9.59 1.41.59.51 0 1.02-.2 1.41-.59l7.78-7.78 2.81-2.81c.8-.78.8-2.07 0-2.86zM5.41 20L4 18.59l7.72-7.72 1.47 1.35L5.41 20z\"/>\n",
              "  </svg>\n",
              "      </button>\n",
              "      \n",
              "  <style>\n",
              "    .colab-df-container {\n",
              "      display:flex;\n",
              "      flex-wrap:wrap;\n",
              "      gap: 12px;\n",
              "    }\n",
              "\n",
              "    .colab-df-convert {\n",
              "      background-color: #E8F0FE;\n",
              "      border: none;\n",
              "      border-radius: 50%;\n",
              "      cursor: pointer;\n",
              "      display: none;\n",
              "      fill: #1967D2;\n",
              "      height: 32px;\n",
              "      padding: 0 0 0 0;\n",
              "      width: 32px;\n",
              "    }\n",
              "\n",
              "    .colab-df-convert:hover {\n",
              "      background-color: #E2EBFA;\n",
              "      box-shadow: 0px 1px 2px rgba(60, 64, 67, 0.3), 0px 1px 3px 1px rgba(60, 64, 67, 0.15);\n",
              "      fill: #174EA6;\n",
              "    }\n",
              "\n",
              "    [theme=dark] .colab-df-convert {\n",
              "      background-color: #3B4455;\n",
              "      fill: #D2E3FC;\n",
              "    }\n",
              "\n",
              "    [theme=dark] .colab-df-convert:hover {\n",
              "      background-color: #434B5C;\n",
              "      box-shadow: 0px 1px 3px 1px rgba(0, 0, 0, 0.15);\n",
              "      filter: drop-shadow(0px 1px 2px rgba(0, 0, 0, 0.3));\n",
              "      fill: #FFFFFF;\n",
              "    }\n",
              "  </style>\n",
              "\n",
              "      <script>\n",
              "        const buttonEl =\n",
              "          document.querySelector('#df-6193edb4-35e6-4b39-baaf-069a1a12532d button.colab-df-convert');\n",
              "        buttonEl.style.display =\n",
              "          google.colab.kernel.accessAllowed ? 'block' : 'none';\n",
              "\n",
              "        async function convertToInteractive(key) {\n",
              "          const element = document.querySelector('#df-6193edb4-35e6-4b39-baaf-069a1a12532d');\n",
              "          const dataTable =\n",
              "            await google.colab.kernel.invokeFunction('convertToInteractive',\n",
              "                                                     [key], {});\n",
              "          if (!dataTable) return;\n",
              "\n",
              "          const docLinkHtml = 'Like what you see? Visit the ' +\n",
              "            '<a target=\"_blank\" href=https://colab.research.google.com/notebooks/data_table.ipynb>data table notebook</a>'\n",
              "            + ' to learn more about interactive tables.';\n",
              "          element.innerHTML = '';\n",
              "          dataTable['output_type'] = 'display_data';\n",
              "          await google.colab.output.renderOutput(dataTable, element);\n",
              "          const docLink = document.createElement('div');\n",
              "          docLink.innerHTML = docLinkHtml;\n",
              "          element.appendChild(docLink);\n",
              "        }\n",
              "      </script>\n",
              "    </div>\n",
              "  </div>\n",
              "  "
            ],
            "text/plain": [
              "  class cap-shape cap-surface  ... spore-print-color population habitat\n",
              "0     p         x           s  ...                 k          s       u\n",
              "1     e         x           s  ...                 n          n       g\n",
              "2     e         b           s  ...                 n          n       m\n",
              "3     p         x           y  ...                 k          s       u\n",
              "4     e         x           s  ...                 n          a       g\n",
              "\n",
              "[5 rows x 23 columns]"
            ]
          },
          "metadata": {},
          "execution_count": 71
        }
      ]
    },
    {
      "cell_type": "markdown",
      "source": [
        "Toàn bộ dữ liệu đều ở dạng categorical"
      ],
      "metadata": {
        "id": "GFMjI56qOCzb"
      }
    },
    {
      "cell_type": "code",
      "source": [
        "df.info()"
      ],
      "metadata": {
        "colab": {
          "base_uri": "https://localhost:8080/"
        },
        "id": "OutgpGxAMeeT",
        "outputId": "cb5721b2-8a4a-4514-f584-fb3d3df246cb"
      },
      "execution_count": 72,
      "outputs": [
        {
          "output_type": "stream",
          "name": "stdout",
          "text": [
            "<class 'pandas.core.frame.DataFrame'>\n",
            "RangeIndex: 8124 entries, 0 to 8123\n",
            "Data columns (total 23 columns):\n",
            " #   Column                    Non-Null Count  Dtype \n",
            "---  ------                    --------------  ----- \n",
            " 0   class                     8124 non-null   object\n",
            " 1   cap-shape                 8124 non-null   object\n",
            " 2   cap-surface               8124 non-null   object\n",
            " 3   cap-color                 8124 non-null   object\n",
            " 4   bruises                   8124 non-null   object\n",
            " 5   odor                      8124 non-null   object\n",
            " 6   gill-attachment           8124 non-null   object\n",
            " 7   gill-spacing              8124 non-null   object\n",
            " 8   gill-size                 8124 non-null   object\n",
            " 9   gill-color                8124 non-null   object\n",
            " 10  stalk-shape               8124 non-null   object\n",
            " 11  stalk-root                8124 non-null   object\n",
            " 12  stalk-surface-above-ring  8124 non-null   object\n",
            " 13  stalk-surface-below-ring  8124 non-null   object\n",
            " 14  stalk-color-above-ring    8124 non-null   object\n",
            " 15  stalk-color-below-ring    8124 non-null   object\n",
            " 16  veil-type                 8124 non-null   object\n",
            " 17  veil-color                8124 non-null   object\n",
            " 18  ring-number               8124 non-null   object\n",
            " 19  ring-type                 8124 non-null   object\n",
            " 20  spore-print-color         8124 non-null   object\n",
            " 21  population                8124 non-null   object\n",
            " 22  habitat                   8124 non-null   object\n",
            "dtypes: object(23)\n",
            "memory usage: 1.4+ MB\n"
          ]
        }
      ]
    },
    {
      "cell_type": "markdown",
      "source": [
        "Không có dữ liệu trống\n"
      ],
      "metadata": {
        "id": "cErUga5sMm2T"
      }
    },
    {
      "cell_type": "code",
      "source": [
        "# Encode dữ liệu sang dạng integer\n",
        "def Encoder(val):\n",
        "    if val in category:\n",
        "        return category[val]\n",
        "    else:\n",
        "        category[val]=len(category)\n",
        "    return category[val]\n",
        "for i in range(df.shape[1]):\n",
        "    category={}\n",
        "    df.iloc[:,i]=df.iloc[:,i].apply(Encoder)"
      ],
      "metadata": {
        "id": "ecYR-Vw2M3tQ"
      },
      "execution_count": 73,
      "outputs": []
    },
    {
      "cell_type": "code",
      "source": [
        "df.head()"
      ],
      "metadata": {
        "colab": {
          "base_uri": "https://localhost:8080/",
          "height": 322
        },
        "id": "urDfSmU2NItZ",
        "outputId": "a4595d95-5117-42e6-e638-36862b6d2334"
      },
      "execution_count": 74,
      "outputs": [
        {
          "output_type": "execute_result",
          "data": {
            "text/html": [
              "\n",
              "  <div id=\"df-4625cb0a-1b15-48e9-bb3b-795d5b3d3dd1\">\n",
              "    <div class=\"colab-df-container\">\n",
              "      <div>\n",
              "<style scoped>\n",
              "    .dataframe tbody tr th:only-of-type {\n",
              "        vertical-align: middle;\n",
              "    }\n",
              "\n",
              "    .dataframe tbody tr th {\n",
              "        vertical-align: top;\n",
              "    }\n",
              "\n",
              "    .dataframe thead th {\n",
              "        text-align: right;\n",
              "    }\n",
              "</style>\n",
              "<table border=\"1\" class=\"dataframe\">\n",
              "  <thead>\n",
              "    <tr style=\"text-align: right;\">\n",
              "      <th></th>\n",
              "      <th>class</th>\n",
              "      <th>cap-shape</th>\n",
              "      <th>cap-surface</th>\n",
              "      <th>cap-color</th>\n",
              "      <th>bruises</th>\n",
              "      <th>odor</th>\n",
              "      <th>gill-attachment</th>\n",
              "      <th>gill-spacing</th>\n",
              "      <th>gill-size</th>\n",
              "      <th>gill-color</th>\n",
              "      <th>stalk-shape</th>\n",
              "      <th>stalk-root</th>\n",
              "      <th>stalk-surface-above-ring</th>\n",
              "      <th>stalk-surface-below-ring</th>\n",
              "      <th>stalk-color-above-ring</th>\n",
              "      <th>stalk-color-below-ring</th>\n",
              "      <th>veil-type</th>\n",
              "      <th>veil-color</th>\n",
              "      <th>ring-number</th>\n",
              "      <th>ring-type</th>\n",
              "      <th>spore-print-color</th>\n",
              "      <th>population</th>\n",
              "      <th>habitat</th>\n",
              "    </tr>\n",
              "  </thead>\n",
              "  <tbody>\n",
              "    <tr>\n",
              "      <th>0</th>\n",
              "      <td>0</td>\n",
              "      <td>0</td>\n",
              "      <td>0</td>\n",
              "      <td>0</td>\n",
              "      <td>0</td>\n",
              "      <td>0</td>\n",
              "      <td>0</td>\n",
              "      <td>0</td>\n",
              "      <td>0</td>\n",
              "      <td>0</td>\n",
              "      <td>0</td>\n",
              "      <td>0</td>\n",
              "      <td>0</td>\n",
              "      <td>0</td>\n",
              "      <td>0</td>\n",
              "      <td>0</td>\n",
              "      <td>0</td>\n",
              "      <td>0</td>\n",
              "      <td>0</td>\n",
              "      <td>0</td>\n",
              "      <td>0</td>\n",
              "      <td>0</td>\n",
              "      <td>0</td>\n",
              "    </tr>\n",
              "    <tr>\n",
              "      <th>1</th>\n",
              "      <td>1</td>\n",
              "      <td>0</td>\n",
              "      <td>0</td>\n",
              "      <td>1</td>\n",
              "      <td>0</td>\n",
              "      <td>1</td>\n",
              "      <td>0</td>\n",
              "      <td>0</td>\n",
              "      <td>1</td>\n",
              "      <td>0</td>\n",
              "      <td>0</td>\n",
              "      <td>1</td>\n",
              "      <td>0</td>\n",
              "      <td>0</td>\n",
              "      <td>0</td>\n",
              "      <td>0</td>\n",
              "      <td>0</td>\n",
              "      <td>0</td>\n",
              "      <td>0</td>\n",
              "      <td>0</td>\n",
              "      <td>1</td>\n",
              "      <td>1</td>\n",
              "      <td>1</td>\n",
              "    </tr>\n",
              "    <tr>\n",
              "      <th>2</th>\n",
              "      <td>1</td>\n",
              "      <td>1</td>\n",
              "      <td>0</td>\n",
              "      <td>2</td>\n",
              "      <td>0</td>\n",
              "      <td>2</td>\n",
              "      <td>0</td>\n",
              "      <td>0</td>\n",
              "      <td>1</td>\n",
              "      <td>1</td>\n",
              "      <td>0</td>\n",
              "      <td>1</td>\n",
              "      <td>0</td>\n",
              "      <td>0</td>\n",
              "      <td>0</td>\n",
              "      <td>0</td>\n",
              "      <td>0</td>\n",
              "      <td>0</td>\n",
              "      <td>0</td>\n",
              "      <td>0</td>\n",
              "      <td>1</td>\n",
              "      <td>1</td>\n",
              "      <td>2</td>\n",
              "    </tr>\n",
              "    <tr>\n",
              "      <th>3</th>\n",
              "      <td>0</td>\n",
              "      <td>0</td>\n",
              "      <td>1</td>\n",
              "      <td>2</td>\n",
              "      <td>0</td>\n",
              "      <td>0</td>\n",
              "      <td>0</td>\n",
              "      <td>0</td>\n",
              "      <td>0</td>\n",
              "      <td>1</td>\n",
              "      <td>0</td>\n",
              "      <td>0</td>\n",
              "      <td>0</td>\n",
              "      <td>0</td>\n",
              "      <td>0</td>\n",
              "      <td>0</td>\n",
              "      <td>0</td>\n",
              "      <td>0</td>\n",
              "      <td>0</td>\n",
              "      <td>0</td>\n",
              "      <td>0</td>\n",
              "      <td>0</td>\n",
              "      <td>0</td>\n",
              "    </tr>\n",
              "    <tr>\n",
              "      <th>4</th>\n",
              "      <td>1</td>\n",
              "      <td>0</td>\n",
              "      <td>0</td>\n",
              "      <td>3</td>\n",
              "      <td>1</td>\n",
              "      <td>3</td>\n",
              "      <td>0</td>\n",
              "      <td>1</td>\n",
              "      <td>1</td>\n",
              "      <td>0</td>\n",
              "      <td>1</td>\n",
              "      <td>0</td>\n",
              "      <td>0</td>\n",
              "      <td>0</td>\n",
              "      <td>0</td>\n",
              "      <td>0</td>\n",
              "      <td>0</td>\n",
              "      <td>0</td>\n",
              "      <td>0</td>\n",
              "      <td>1</td>\n",
              "      <td>1</td>\n",
              "      <td>2</td>\n",
              "      <td>1</td>\n",
              "    </tr>\n",
              "  </tbody>\n",
              "</table>\n",
              "</div>\n",
              "      <button class=\"colab-df-convert\" onclick=\"convertToInteractive('df-4625cb0a-1b15-48e9-bb3b-795d5b3d3dd1')\"\n",
              "              title=\"Convert this dataframe to an interactive table.\"\n",
              "              style=\"display:none;\">\n",
              "        \n",
              "  <svg xmlns=\"http://www.w3.org/2000/svg\" height=\"24px\"viewBox=\"0 0 24 24\"\n",
              "       width=\"24px\">\n",
              "    <path d=\"M0 0h24v24H0V0z\" fill=\"none\"/>\n",
              "    <path d=\"M18.56 5.44l.94 2.06.94-2.06 2.06-.94-2.06-.94-.94-2.06-.94 2.06-2.06.94zm-11 1L8.5 8.5l.94-2.06 2.06-.94-2.06-.94L8.5 2.5l-.94 2.06-2.06.94zm10 10l.94 2.06.94-2.06 2.06-.94-2.06-.94-.94-2.06-.94 2.06-2.06.94z\"/><path d=\"M17.41 7.96l-1.37-1.37c-.4-.4-.92-.59-1.43-.59-.52 0-1.04.2-1.43.59L10.3 9.45l-7.72 7.72c-.78.78-.78 2.05 0 2.83L4 21.41c.39.39.9.59 1.41.59.51 0 1.02-.2 1.41-.59l7.78-7.78 2.81-2.81c.8-.78.8-2.07 0-2.86zM5.41 20L4 18.59l7.72-7.72 1.47 1.35L5.41 20z\"/>\n",
              "  </svg>\n",
              "      </button>\n",
              "      \n",
              "  <style>\n",
              "    .colab-df-container {\n",
              "      display:flex;\n",
              "      flex-wrap:wrap;\n",
              "      gap: 12px;\n",
              "    }\n",
              "\n",
              "    .colab-df-convert {\n",
              "      background-color: #E8F0FE;\n",
              "      border: none;\n",
              "      border-radius: 50%;\n",
              "      cursor: pointer;\n",
              "      display: none;\n",
              "      fill: #1967D2;\n",
              "      height: 32px;\n",
              "      padding: 0 0 0 0;\n",
              "      width: 32px;\n",
              "    }\n",
              "\n",
              "    .colab-df-convert:hover {\n",
              "      background-color: #E2EBFA;\n",
              "      box-shadow: 0px 1px 2px rgba(60, 64, 67, 0.3), 0px 1px 3px 1px rgba(60, 64, 67, 0.15);\n",
              "      fill: #174EA6;\n",
              "    }\n",
              "\n",
              "    [theme=dark] .colab-df-convert {\n",
              "      background-color: #3B4455;\n",
              "      fill: #D2E3FC;\n",
              "    }\n",
              "\n",
              "    [theme=dark] .colab-df-convert:hover {\n",
              "      background-color: #434B5C;\n",
              "      box-shadow: 0px 1px 3px 1px rgba(0, 0, 0, 0.15);\n",
              "      filter: drop-shadow(0px 1px 2px rgba(0, 0, 0, 0.3));\n",
              "      fill: #FFFFFF;\n",
              "    }\n",
              "  </style>\n",
              "\n",
              "      <script>\n",
              "        const buttonEl =\n",
              "          document.querySelector('#df-4625cb0a-1b15-48e9-bb3b-795d5b3d3dd1 button.colab-df-convert');\n",
              "        buttonEl.style.display =\n",
              "          google.colab.kernel.accessAllowed ? 'block' : 'none';\n",
              "\n",
              "        async function convertToInteractive(key) {\n",
              "          const element = document.querySelector('#df-4625cb0a-1b15-48e9-bb3b-795d5b3d3dd1');\n",
              "          const dataTable =\n",
              "            await google.colab.kernel.invokeFunction('convertToInteractive',\n",
              "                                                     [key], {});\n",
              "          if (!dataTable) return;\n",
              "\n",
              "          const docLinkHtml = 'Like what you see? Visit the ' +\n",
              "            '<a target=\"_blank\" href=https://colab.research.google.com/notebooks/data_table.ipynb>data table notebook</a>'\n",
              "            + ' to learn more about interactive tables.';\n",
              "          element.innerHTML = '';\n",
              "          dataTable['output_type'] = 'display_data';\n",
              "          await google.colab.output.renderOutput(dataTable, element);\n",
              "          const docLink = document.createElement('div');\n",
              "          docLink.innerHTML = docLinkHtml;\n",
              "          element.appendChild(docLink);\n",
              "        }\n",
              "      </script>\n",
              "    </div>\n",
              "  </div>\n",
              "  "
            ],
            "text/plain": [
              "   class  cap-shape  cap-surface  ...  spore-print-color  population  habitat\n",
              "0      0          0            0  ...                  0           0        0\n",
              "1      1          0            0  ...                  1           1        1\n",
              "2      1          1            0  ...                  1           1        2\n",
              "3      0          0            1  ...                  0           0        0\n",
              "4      1          0            0  ...                  1           2        1\n",
              "\n",
              "[5 rows x 23 columns]"
            ]
          },
          "metadata": {},
          "execution_count": 74
        }
      ]
    },
    {
      "cell_type": "code",
      "source": [
        "sns.countplot(x='class',data=df)"
      ],
      "metadata": {
        "colab": {
          "base_uri": "https://localhost:8080/",
          "height": 302
        },
        "id": "LzrTcITaNJzi",
        "outputId": "415c1b2b-919d-43dc-c52e-ef5dc06719ed"
      },
      "execution_count": 75,
      "outputs": [
        {
          "output_type": "execute_result",
          "data": {
            "text/plain": [
              "<matplotlib.axes._subplots.AxesSubplot at 0x7f1064cff5d0>"
            ]
          },
          "metadata": {},
          "execution_count": 75
        },
        {
          "output_type": "display_data",
          "data": {
            "image/png": "[encoded data removed]",
            "text/plain": [
              "<Figure size 432x288 with 1 Axes>"
            ]
          },
          "metadata": {
            "needs_background": "light"
          }
        }
      ]
    },
    {
      "cell_type": "markdown",
      "source": [
        "Bộ dữ liệu khá cân bằng"
      ],
      "metadata": {
        "id": "EYKSHaolNVYg"
      }
    },
    {
      "cell_type": "code",
      "source": [
        "# Xem xét sự tương quan dữ liệu\n",
        "correlation=df.corr()\n",
        "plt.figure(figsize=(15,15))\n",
        "sns.heatmap(df,annot=True,cmap='coolwarm')"
      ],
      "metadata": {
        "colab": {
          "base_uri": "https://localhost:8080/",
          "height": 884
        },
        "id": "pKvMZo6eNZ1P",
        "outputId": "fd546b00-c50e-4438-9e37-ae95dc662a03"
      },
      "execution_count": 76,
      "outputs": [
        {
          "output_type": "execute_result",
          "data": {
            "text/plain": [
              "<matplotlib.axes._subplots.AxesSubplot at 0x7f106d61bf50>"
            ]
          },
          "metadata": {},
          "execution_count": 76
        },
        {
          "output_type": "stream",
          "name": "stdout",
          "text": [
            "Error in callback <function install_repl_displayhook.<locals>.post_execute at 0x7f10871cc5f0> (for post_execute):\n"
          ]
        },
        {
          "output_type": "error",
          "ename": "KeyboardInterrupt",
          "evalue": "ignored",
          "traceback": [
            "\u001b[0;31m---------------------------------------------------------------------------\u001b[0m",
            "\u001b[0;31mKeyboardInterrupt\u001b[0m                         Traceback (most recent call last)",
            "\u001b[0;32m/usr/local/lib/python3.7/dist-packages/matplotlib/pyplot.py\u001b[0m in \u001b[0;36mpost_execute\u001b[0;34m()\u001b[0m\n\u001b[1;32m    107\u001b[0m             \u001b[0;32mdef\u001b[0m \u001b[0mpost_execute\u001b[0m\u001b[0;34m(\u001b[0m\u001b[0;34m)\u001b[0m\u001b[0;34m:\u001b[0m\u001b[0;34m\u001b[0m\u001b[0;34m\u001b[0m\u001b[0m\n\u001b[1;32m    108\u001b[0m                 \u001b[0;32mif\u001b[0m \u001b[0mmatplotlib\u001b[0m\u001b[0;34m.\u001b[0m\u001b[0mis_interactive\u001b[0m\u001b[0;34m(\u001b[0m\u001b[0;34m)\u001b[0m\u001b[0;34m:\u001b[0m\u001b[0;34m\u001b[0m\u001b[0;34m\u001b[0m\u001b[0m\n\u001b[0;32m--> 109\u001b[0;31m                     \u001b[0mdraw_all\u001b[0m\u001b[0;34m(\u001b[0m\u001b[0;34m)\u001b[0m\u001b[0;34m\u001b[0m\u001b[0;34m\u001b[0m\u001b[0m\n\u001b[0m\u001b[1;32m    110\u001b[0m \u001b[0;34m\u001b[0m\u001b[0m\n\u001b[1;32m    111\u001b[0m             \u001b[0;31m# IPython >= 2\u001b[0m\u001b[0;34m\u001b[0m\u001b[0;34m\u001b[0m\u001b[0;34m\u001b[0m\u001b[0m\n",
            "\u001b[0;32m/usr/local/lib/python3.7/dist-packages/matplotlib/_pylab_helpers.py\u001b[0m in \u001b[0;36mdraw_all\u001b[0;34m(cls, force)\u001b[0m\n\u001b[1;32m    125\u001b[0m         \u001b[0;32mfor\u001b[0m \u001b[0mf_mgr\u001b[0m \u001b[0;32min\u001b[0m \u001b[0mcls\u001b[0m\u001b[0;34m.\u001b[0m\u001b[0mget_all_fig_managers\u001b[0m\u001b[0;34m(\u001b[0m\u001b[0;34m)\u001b[0m\u001b[0;34m:\u001b[0m\u001b[0;34m\u001b[0m\u001b[0;34m\u001b[0m\u001b[0m\n\u001b[1;32m    126\u001b[0m             \u001b[0;32mif\u001b[0m \u001b[0mforce\u001b[0m \u001b[0;32mor\u001b[0m \u001b[0mf_mgr\u001b[0m\u001b[0;34m.\u001b[0m\u001b[0mcanvas\u001b[0m\u001b[0;34m.\u001b[0m\u001b[0mfigure\u001b[0m\u001b[0;34m.\u001b[0m\u001b[0mstale\u001b[0m\u001b[0;34m:\u001b[0m\u001b[0;34m\u001b[0m\u001b[0;34m\u001b[0m\u001b[0m\n\u001b[0;32m--> 127\u001b[0;31m                 \u001b[0mf_mgr\u001b[0m\u001b[0;34m.\u001b[0m\u001b[0mcanvas\u001b[0m\u001b[0;34m.\u001b[0m\u001b[0mdraw_idle\u001b[0m\u001b[0;34m(\u001b[0m\u001b[0;34m)\u001b[0m\u001b[0;34m\u001b[0m\u001b[0;34m\u001b[0m\u001b[0m\n\u001b[0m\u001b[1;32m    128\u001b[0m \u001b[0;34m\u001b[0m\u001b[0m\n\u001b[1;32m    129\u001b[0m \u001b[0matexit\u001b[0m\u001b[0;34m.\u001b[0m\u001b[0mregister\u001b[0m\u001b[0;34m(\u001b[0m\u001b[0mGcf\u001b[0m\u001b[0;34m.\u001b[0m\u001b[0mdestroy_all\u001b[0m\u001b[0;34m)\u001b[0m\u001b[0;34m\u001b[0m\u001b[0;34m\u001b[0m\u001b[0m\n",
            "\u001b[0;32m/usr/local/lib/python3.7/dist-packages/matplotlib/backend_bases.py\u001b[0m in \u001b[0;36mdraw_idle\u001b[0;34m(self, *args, **kwargs)\u001b[0m\n\u001b[1;32m   1945\u001b[0m         \u001b[0;32mif\u001b[0m \u001b[0;32mnot\u001b[0m \u001b[0mself\u001b[0m\u001b[0;34m.\u001b[0m\u001b[0m_is_idle_drawing\u001b[0m\u001b[0;34m:\u001b[0m\u001b[0;34m\u001b[0m\u001b[0;34m\u001b[0m\u001b[0m\n\u001b[1;32m   1946\u001b[0m             \u001b[0;32mwith\u001b[0m \u001b[0mself\u001b[0m\u001b[0;34m.\u001b[0m\u001b[0m_idle_draw_cntx\u001b[0m\u001b[0;34m(\u001b[0m\u001b[0;34m)\u001b[0m\u001b[0;34m:\u001b[0m\u001b[0;34m\u001b[0m\u001b[0;34m\u001b[0m\u001b[0m\n\u001b[0;32m-> 1947\u001b[0;31m                 \u001b[0mself\u001b[0m\u001b[0;34m.\u001b[0m\u001b[0mdraw\u001b[0m\u001b[0;34m(\u001b[0m\u001b[0;34m*\u001b[0m\u001b[0margs\u001b[0m\u001b[0;34m,\u001b[0m \u001b[0;34m**\u001b[0m\u001b[0mkwargs\u001b[0m\u001b[0;34m)\u001b[0m\u001b[0;34m\u001b[0m\u001b[0;34m\u001b[0m\u001b[0m\n\u001b[0m\u001b[1;32m   1948\u001b[0m \u001b[0;34m\u001b[0m\u001b[0m\n\u001b[1;32m   1949\u001b[0m     \u001b[0;34m@\u001b[0m\u001b[0mcbook\u001b[0m\u001b[0;34m.\u001b[0m\u001b[0mdeprecated\u001b[0m\u001b[0;34m(\u001b[0m\u001b[0;34m\"3.2\"\u001b[0m\u001b[0;34m)\u001b[0m\u001b[0;34m\u001b[0m\u001b[0;34m\u001b[0m\u001b[0m\n",
            "\u001b[0;32m/usr/local/lib/python3.7/dist-packages/matplotlib/backends/backend_agg.py\u001b[0m in \u001b[0;36mdraw\u001b[0;34m(self)\u001b[0m\n\u001b[1;32m    391\u001b[0m              (self.toolbar._wait_cursor_for_draw_cm() if self.toolbar\n\u001b[1;32m    392\u001b[0m               else nullcontext()):\n\u001b[0;32m--> 393\u001b[0;31m             \u001b[0mself\u001b[0m\u001b[0;34m.\u001b[0m\u001b[0mfigure\u001b[0m\u001b[0;34m.\u001b[0m\u001b[0mdraw\u001b[0m\u001b[0;34m(\u001b[0m\u001b[0mself\u001b[0m\u001b[0;34m.\u001b[0m\u001b[0mrenderer\u001b[0m\u001b[0;34m)\u001b[0m\u001b[0;34m\u001b[0m\u001b[0;34m\u001b[0m\u001b[0m\n\u001b[0m\u001b[1;32m    394\u001b[0m             \u001b[0;31m# A GUI class may be need to update a window using this draw, so\u001b[0m\u001b[0;34m\u001b[0m\u001b[0;34m\u001b[0m\u001b[0;34m\u001b[0m\u001b[0m\n\u001b[1;32m    395\u001b[0m             \u001b[0;31m# don't forget to call the superclass.\u001b[0m\u001b[0;34m\u001b[0m\u001b[0;34m\u001b[0m\u001b[0;34m\u001b[0m\u001b[0m\n",
            "\u001b[0;32m/usr/local/lib/python3.7/dist-packages/matplotlib/artist.py\u001b[0m in \u001b[0;36mdraw_wrapper\u001b[0;34m(artist, renderer, *args, **kwargs)\u001b[0m\n\u001b[1;32m     36\u001b[0m                 \u001b[0mrenderer\u001b[0m\u001b[0;34m.\u001b[0m\u001b[0mstart_filter\u001b[0m\u001b[0;34m(\u001b[0m\u001b[0;34m)\u001b[0m\u001b[0;34m\u001b[0m\u001b[0;34m\u001b[0m\u001b[0m\n\u001b[1;32m     37\u001b[0m \u001b[0;34m\u001b[0m\u001b[0m\n\u001b[0;32m---> 38\u001b[0;31m             \u001b[0;32mreturn\u001b[0m \u001b[0mdraw\u001b[0m\u001b[0;34m(\u001b[0m\u001b[0martist\u001b[0m\u001b[0;34m,\u001b[0m \u001b[0mrenderer\u001b[0m\u001b[0;34m,\u001b[0m \u001b[0;34m*\u001b[0m\u001b[0margs\u001b[0m\u001b[0;34m,\u001b[0m \u001b[0;34m**\u001b[0m\u001b[0mkwargs\u001b[0m\u001b[0;34m)\u001b[0m\u001b[0;34m\u001b[0m\u001b[0;34m\u001b[0m\u001b[0m\n\u001b[0m\u001b[1;32m     39\u001b[0m         \u001b[0;32mfinally\u001b[0m\u001b[0;34m:\u001b[0m\u001b[0;34m\u001b[0m\u001b[0;34m\u001b[0m\u001b[0m\n\u001b[1;32m     40\u001b[0m             \u001b[0;32mif\u001b[0m \u001b[0martist\u001b[0m\u001b[0;34m.\u001b[0m\u001b[0mget_agg_filter\u001b[0m\u001b[0;34m(\u001b[0m\u001b[0;34m)\u001b[0m \u001b[0;32mis\u001b[0m \u001b[0;32mnot\u001b[0m \u001b[0;32mNone\u001b[0m\u001b[0;34m:\u001b[0m\u001b[0;34m\u001b[0m\u001b[0;34m\u001b[0m\u001b[0m\n",
            "\u001b[0;32m/usr/local/lib/python3.7/dist-packages/matplotlib/figure.py\u001b[0m in \u001b[0;36mdraw\u001b[0;34m(self, renderer)\u001b[0m\n\u001b[1;32m   1734\u001b[0m             \u001b[0mself\u001b[0m\u001b[0;34m.\u001b[0m\u001b[0mpatch\u001b[0m\u001b[0;34m.\u001b[0m\u001b[0mdraw\u001b[0m\u001b[0;34m(\u001b[0m\u001b[0mrenderer\u001b[0m\u001b[0;34m)\u001b[0m\u001b[0;34m\u001b[0m\u001b[0;34m\u001b[0m\u001b[0m\n\u001b[1;32m   1735\u001b[0m             mimage._draw_list_compositing_images(\n\u001b[0;32m-> 1736\u001b[0;31m                 renderer, self, artists, self.suppressComposite)\n\u001b[0m\u001b[1;32m   1737\u001b[0m \u001b[0;34m\u001b[0m\u001b[0m\n\u001b[1;32m   1738\u001b[0m             \u001b[0mrenderer\u001b[0m\u001b[0;34m.\u001b[0m\u001b[0mclose_group\u001b[0m\u001b[0;34m(\u001b[0m\u001b[0;34m'figure'\u001b[0m\u001b[0;34m)\u001b[0m\u001b[0;34m\u001b[0m\u001b[0;34m\u001b[0m\u001b[0m\n",
            "\u001b[0;32m/usr/local/lib/python3.7/dist-packages/matplotlib/image.py\u001b[0m in \u001b[0;36m_draw_list_compositing_images\u001b[0;34m(renderer, parent, artists, suppress_composite)\u001b[0m\n\u001b[1;32m    135\u001b[0m     \u001b[0;32mif\u001b[0m \u001b[0mnot_composite\u001b[0m \u001b[0;32mor\u001b[0m \u001b[0;32mnot\u001b[0m \u001b[0mhas_images\u001b[0m\u001b[0;34m:\u001b[0m\u001b[0;34m\u001b[0m\u001b[0;34m\u001b[0m\u001b[0m\n\u001b[1;32m    136\u001b[0m         \u001b[0;32mfor\u001b[0m \u001b[0ma\u001b[0m \u001b[0;32min\u001b[0m \u001b[0martists\u001b[0m\u001b[0;34m:\u001b[0m\u001b[0;34m\u001b[0m\u001b[0;34m\u001b[0m\u001b[0m\n\u001b[0;32m--> 137\u001b[0;31m             \u001b[0ma\u001b[0m\u001b[0;34m.\u001b[0m\u001b[0mdraw\u001b[0m\u001b[0;34m(\u001b[0m\u001b[0mrenderer\u001b[0m\u001b[0;34m)\u001b[0m\u001b[0;34m\u001b[0m\u001b[0;34m\u001b[0m\u001b[0m\n\u001b[0m\u001b[1;32m    138\u001b[0m     \u001b[0;32melse\u001b[0m\u001b[0;34m:\u001b[0m\u001b[0;34m\u001b[0m\u001b[0;34m\u001b[0m\u001b[0m\n\u001b[1;32m    139\u001b[0m         \u001b[0;31m# Composite any adjacent images together\u001b[0m\u001b[0;34m\u001b[0m\u001b[0;34m\u001b[0m\u001b[0;34m\u001b[0m\u001b[0m\n",
            "\u001b[0;32m/usr/local/lib/python3.7/dist-packages/matplotlib/artist.py\u001b[0m in \u001b[0;36mdraw_wrapper\u001b[0;34m(artist, renderer, *args, **kwargs)\u001b[0m\n\u001b[1;32m     36\u001b[0m                 \u001b[0mrenderer\u001b[0m\u001b[0;34m.\u001b[0m\u001b[0mstart_filter\u001b[0m\u001b[0;34m(\u001b[0m\u001b[0;34m)\u001b[0m\u001b[0;34m\u001b[0m\u001b[0;34m\u001b[0m\u001b[0m\n\u001b[1;32m     37\u001b[0m \u001b[0;34m\u001b[0m\u001b[0m\n\u001b[0;32m---> 38\u001b[0;31m             \u001b[0;32mreturn\u001b[0m \u001b[0mdraw\u001b[0m\u001b[0;34m(\u001b[0m\u001b[0martist\u001b[0m\u001b[0;34m,\u001b[0m \u001b[0mrenderer\u001b[0m\u001b[0;34m,\u001b[0m \u001b[0;34m*\u001b[0m\u001b[0margs\u001b[0m\u001b[0;34m,\u001b[0m \u001b[0;34m**\u001b[0m\u001b[0mkwargs\u001b[0m\u001b[0;34m)\u001b[0m\u001b[0;34m\u001b[0m\u001b[0;34m\u001b[0m\u001b[0m\n\u001b[0m\u001b[1;32m     39\u001b[0m         \u001b[0;32mfinally\u001b[0m\u001b[0;34m:\u001b[0m\u001b[0;34m\u001b[0m\u001b[0;34m\u001b[0m\u001b[0m\n\u001b[1;32m     40\u001b[0m             \u001b[0;32mif\u001b[0m \u001b[0martist\u001b[0m\u001b[0;34m.\u001b[0m\u001b[0mget_agg_filter\u001b[0m\u001b[0;34m(\u001b[0m\u001b[0;34m)\u001b[0m \u001b[0;32mis\u001b[0m \u001b[0;32mnot\u001b[0m \u001b[0;32mNone\u001b[0m\u001b[0;34m:\u001b[0m\u001b[0;34m\u001b[0m\u001b[0;34m\u001b[0m\u001b[0m\n",
            "\u001b[0;32m/usr/local/lib/python3.7/dist-packages/matplotlib/axes/_base.py\u001b[0m in \u001b[0;36mdraw\u001b[0;34m(self, renderer, inframe)\u001b[0m\n\u001b[1;32m   2628\u001b[0m             \u001b[0mrenderer\u001b[0m\u001b[0;34m.\u001b[0m\u001b[0mstop_rasterizing\u001b[0m\u001b[0;34m(\u001b[0m\u001b[0;34m)\u001b[0m\u001b[0;34m\u001b[0m\u001b[0;34m\u001b[0m\u001b[0m\n\u001b[1;32m   2629\u001b[0m \u001b[0;34m\u001b[0m\u001b[0m\n\u001b[0;32m-> 2630\u001b[0;31m         \u001b[0mmimage\u001b[0m\u001b[0;34m.\u001b[0m\u001b[0m_draw_list_compositing_images\u001b[0m\u001b[0;34m(\u001b[0m\u001b[0mrenderer\u001b[0m\u001b[0;34m,\u001b[0m \u001b[0mself\u001b[0m\u001b[0;34m,\u001b[0m \u001b[0martists\u001b[0m\u001b[0;34m)\u001b[0m\u001b[0;34m\u001b[0m\u001b[0;34m\u001b[0m\u001b[0m\n\u001b[0m\u001b[1;32m   2631\u001b[0m \u001b[0;34m\u001b[0m\u001b[0m\n\u001b[1;32m   2632\u001b[0m         \u001b[0mrenderer\u001b[0m\u001b[0;34m.\u001b[0m\u001b[0mclose_group\u001b[0m\u001b[0;34m(\u001b[0m\u001b[0;34m'axes'\u001b[0m\u001b[0;34m)\u001b[0m\u001b[0;34m\u001b[0m\u001b[0;34m\u001b[0m\u001b[0m\n",
            "\u001b[0;32m/usr/local/lib/python3.7/dist-packages/matplotlib/image.py\u001b[0m in \u001b[0;36m_draw_list_compositing_images\u001b[0;34m(renderer, parent, artists, suppress_composite)\u001b[0m\n\u001b[1;32m    135\u001b[0m     \u001b[0;32mif\u001b[0m \u001b[0mnot_composite\u001b[0m \u001b[0;32mor\u001b[0m \u001b[0;32mnot\u001b[0m \u001b[0mhas_images\u001b[0m\u001b[0;34m:\u001b[0m\u001b[0;34m\u001b[0m\u001b[0;34m\u001b[0m\u001b[0m\n\u001b[1;32m    136\u001b[0m         \u001b[0;32mfor\u001b[0m \u001b[0ma\u001b[0m \u001b[0;32min\u001b[0m \u001b[0martists\u001b[0m\u001b[0;34m:\u001b[0m\u001b[0;34m\u001b[0m\u001b[0;34m\u001b[0m\u001b[0m\n\u001b[0;32m--> 137\u001b[0;31m             \u001b[0ma\u001b[0m\u001b[0;34m.\u001b[0m\u001b[0mdraw\u001b[0m\u001b[0;34m(\u001b[0m\u001b[0mrenderer\u001b[0m\u001b[0;34m)\u001b[0m\u001b[0;34m\u001b[0m\u001b[0;34m\u001b[0m\u001b[0m\n\u001b[0m\u001b[1;32m    138\u001b[0m     \u001b[0;32melse\u001b[0m\u001b[0;34m:\u001b[0m\u001b[0;34m\u001b[0m\u001b[0;34m\u001b[0m\u001b[0m\n\u001b[1;32m    139\u001b[0m         \u001b[0;31m# Composite any adjacent images together\u001b[0m\u001b[0;34m\u001b[0m\u001b[0;34m\u001b[0m\u001b[0;34m\u001b[0m\u001b[0m\n",
            "\u001b[0;32m/usr/local/lib/python3.7/dist-packages/matplotlib/artist.py\u001b[0m in \u001b[0;36mdraw_wrapper\u001b[0;34m(artist, renderer, *args, **kwargs)\u001b[0m\n\u001b[1;32m     36\u001b[0m                 \u001b[0mrenderer\u001b[0m\u001b[0;34m.\u001b[0m\u001b[0mstart_filter\u001b[0m\u001b[0;34m(\u001b[0m\u001b[0;34m)\u001b[0m\u001b[0;34m\u001b[0m\u001b[0;34m\u001b[0m\u001b[0m\n\u001b[1;32m     37\u001b[0m \u001b[0;34m\u001b[0m\u001b[0m\n\u001b[0;32m---> 38\u001b[0;31m             \u001b[0;32mreturn\u001b[0m \u001b[0mdraw\u001b[0m\u001b[0;34m(\u001b[0m\u001b[0martist\u001b[0m\u001b[0;34m,\u001b[0m \u001b[0mrenderer\u001b[0m\u001b[0;34m,\u001b[0m \u001b[0;34m*\u001b[0m\u001b[0margs\u001b[0m\u001b[0;34m,\u001b[0m \u001b[0;34m**\u001b[0m\u001b[0mkwargs\u001b[0m\u001b[0;34m)\u001b[0m\u001b[0;34m\u001b[0m\u001b[0;34m\u001b[0m\u001b[0m\n\u001b[0m\u001b[1;32m     39\u001b[0m         \u001b[0;32mfinally\u001b[0m\u001b[0;34m:\u001b[0m\u001b[0;34m\u001b[0m\u001b[0;34m\u001b[0m\u001b[0m\n\u001b[1;32m     40\u001b[0m             \u001b[0;32mif\u001b[0m \u001b[0martist\u001b[0m\u001b[0;34m.\u001b[0m\u001b[0mget_agg_filter\u001b[0m\u001b[0;34m(\u001b[0m\u001b[0;34m)\u001b[0m \u001b[0;32mis\u001b[0m \u001b[0;32mnot\u001b[0m \u001b[0;32mNone\u001b[0m\u001b[0;34m:\u001b[0m\u001b[0;34m\u001b[0m\u001b[0;34m\u001b[0m\u001b[0m\n",
            "\u001b[0;32m/usr/local/lib/python3.7/dist-packages/matplotlib/text.py\u001b[0m in \u001b[0;36mdraw\u001b[0;34m(self, renderer)\u001b[0m\n\u001b[1;32m    683\u001b[0m \u001b[0;34m\u001b[0m\u001b[0m\n\u001b[1;32m    684\u001b[0m         \u001b[0;32mwith\u001b[0m \u001b[0m_wrap_text\u001b[0m\u001b[0;34m(\u001b[0m\u001b[0mself\u001b[0m\u001b[0;34m)\u001b[0m \u001b[0;32mas\u001b[0m \u001b[0mtextobj\u001b[0m\u001b[0;34m:\u001b[0m\u001b[0;34m\u001b[0m\u001b[0;34m\u001b[0m\u001b[0m\n\u001b[0;32m--> 685\u001b[0;31m             \u001b[0mbbox\u001b[0m\u001b[0;34m,\u001b[0m \u001b[0minfo\u001b[0m\u001b[0;34m,\u001b[0m \u001b[0mdescent\u001b[0m \u001b[0;34m=\u001b[0m \u001b[0mtextobj\u001b[0m\u001b[0;34m.\u001b[0m\u001b[0m_get_layout\u001b[0m\u001b[0;34m(\u001b[0m\u001b[0mrenderer\u001b[0m\u001b[0;34m)\u001b[0m\u001b[0;34m\u001b[0m\u001b[0;34m\u001b[0m\u001b[0m\n\u001b[0m\u001b[1;32m    686\u001b[0m             \u001b[0mtrans\u001b[0m \u001b[0;34m=\u001b[0m \u001b[0mtextobj\u001b[0m\u001b[0;34m.\u001b[0m\u001b[0mget_transform\u001b[0m\u001b[0;34m(\u001b[0m\u001b[0;34m)\u001b[0m\u001b[0;34m\u001b[0m\u001b[0;34m\u001b[0m\u001b[0m\n\u001b[1;32m    687\u001b[0m \u001b[0;34m\u001b[0m\u001b[0m\n",
            "\u001b[0;32m/usr/local/lib/python3.7/dist-packages/matplotlib/text.py\u001b[0m in \u001b[0;36m_get_layout\u001b[0;34m(self, renderer)\u001b[0m\n\u001b[1;32m    298\u001b[0m             \u001b[0;32mif\u001b[0m \u001b[0mclean_line\u001b[0m\u001b[0;34m:\u001b[0m\u001b[0;34m\u001b[0m\u001b[0;34m\u001b[0m\u001b[0m\n\u001b[1;32m    299\u001b[0m                 w, h, d = renderer.get_text_width_height_descent(\n\u001b[0;32m--> 300\u001b[0;31m                     clean_line, self._fontproperties, ismath=ismath)\n\u001b[0m\u001b[1;32m    301\u001b[0m             \u001b[0;32melse\u001b[0m\u001b[0;34m:\u001b[0m\u001b[0;34m\u001b[0m\u001b[0;34m\u001b[0m\u001b[0m\n\u001b[1;32m    302\u001b[0m                 \u001b[0mw\u001b[0m \u001b[0;34m=\u001b[0m \u001b[0mh\u001b[0m \u001b[0;34m=\u001b[0m \u001b[0md\u001b[0m \u001b[0;34m=\u001b[0m \u001b[0;36m0\u001b[0m\u001b[0;34m\u001b[0m\u001b[0;34m\u001b[0m\u001b[0m\n",
            "\u001b[0;32m/usr/local/lib/python3.7/dist-packages/matplotlib/backends/backend_agg.py\u001b[0m in \u001b[0;36mget_text_width_height_descent\u001b[0;34m(self, s, prop, ismath)\u001b[0m\n\u001b[1;32m    211\u001b[0m \u001b[0;34m\u001b[0m\u001b[0m\n\u001b[1;32m    212\u001b[0m         \u001b[0mflags\u001b[0m \u001b[0;34m=\u001b[0m \u001b[0mget_hinting_flag\u001b[0m\u001b[0;34m(\u001b[0m\u001b[0;34m)\u001b[0m\u001b[0;34m\u001b[0m\u001b[0;34m\u001b[0m\u001b[0m\n\u001b[0;32m--> 213\u001b[0;31m         \u001b[0mfont\u001b[0m \u001b[0;34m=\u001b[0m \u001b[0mself\u001b[0m\u001b[0;34m.\u001b[0m\u001b[0m_get_agg_font\u001b[0m\u001b[0;34m(\u001b[0m\u001b[0mprop\u001b[0m\u001b[0;34m)\u001b[0m\u001b[0;34m\u001b[0m\u001b[0;34m\u001b[0m\u001b[0m\n\u001b[0m\u001b[1;32m    214\u001b[0m         \u001b[0mfont\u001b[0m\u001b[0;34m.\u001b[0m\u001b[0mset_text\u001b[0m\u001b[0;34m(\u001b[0m\u001b[0ms\u001b[0m\u001b[0;34m,\u001b[0m \u001b[0;36m0.0\u001b[0m\u001b[0;34m,\u001b[0m \u001b[0mflags\u001b[0m\u001b[0;34m=\u001b[0m\u001b[0mflags\u001b[0m\u001b[0;34m)\u001b[0m\u001b[0;34m\u001b[0m\u001b[0;34m\u001b[0m\u001b[0m\n\u001b[1;32m    215\u001b[0m         \u001b[0mw\u001b[0m\u001b[0;34m,\u001b[0m \u001b[0mh\u001b[0m \u001b[0;34m=\u001b[0m \u001b[0mfont\u001b[0m\u001b[0;34m.\u001b[0m\u001b[0mget_width_height\u001b[0m\u001b[0;34m(\u001b[0m\u001b[0;34m)\u001b[0m  \u001b[0;31m# width and height of unrotated string\u001b[0m\u001b[0;34m\u001b[0m\u001b[0;34m\u001b[0m\u001b[0m\n",
            "\u001b[0;32m/usr/local/lib/python3.7/dist-packages/matplotlib/backends/backend_agg.py\u001b[0m in \u001b[0;36m_get_agg_font\u001b[0;34m(self, prop)\u001b[0m\n\u001b[1;32m    246\u001b[0m         \"\"\"\n\u001b[1;32m    247\u001b[0m         \u001b[0mfname\u001b[0m \u001b[0;34m=\u001b[0m \u001b[0mfindfont\u001b[0m\u001b[0;34m(\u001b[0m\u001b[0mprop\u001b[0m\u001b[0;34m)\u001b[0m\u001b[0;34m\u001b[0m\u001b[0;34m\u001b[0m\u001b[0m\n\u001b[0;32m--> 248\u001b[0;31m         \u001b[0mfont\u001b[0m \u001b[0;34m=\u001b[0m \u001b[0mget_font\u001b[0m\u001b[0;34m(\u001b[0m\u001b[0mfname\u001b[0m\u001b[0;34m)\u001b[0m\u001b[0;34m\u001b[0m\u001b[0;34m\u001b[0m\u001b[0m\n\u001b[0m\u001b[1;32m    249\u001b[0m \u001b[0;34m\u001b[0m\u001b[0m\n\u001b[1;32m    250\u001b[0m         \u001b[0mfont\u001b[0m\u001b[0;34m.\u001b[0m\u001b[0mclear\u001b[0m\u001b[0;34m(\u001b[0m\u001b[0;34m)\u001b[0m\u001b[0;34m\u001b[0m\u001b[0;34m\u001b[0m\u001b[0m\n",
            "\u001b[0;32m/usr/local/lib/python3.7/dist-packages/matplotlib/font_manager.py\u001b[0m in \u001b[0;36mget_font\u001b[0;34m(filename, hinting_factor)\u001b[0m\n\u001b[1;32m   1327\u001b[0m         \u001b[0mhinting_factor\u001b[0m \u001b[0;34m=\u001b[0m \u001b[0mrcParams\u001b[0m\u001b[0;34m[\u001b[0m\u001b[0;34m'text.hinting_factor'\u001b[0m\u001b[0;34m]\u001b[0m\u001b[0;34m\u001b[0m\u001b[0;34m\u001b[0m\u001b[0m\n\u001b[1;32m   1328\u001b[0m     return _get_font(os.fspath(filename), hinting_factor,\n\u001b[0;32m-> 1329\u001b[0;31m                      _kerning_factor=rcParams['text.kerning_factor'])\n\u001b[0m\u001b[1;32m   1330\u001b[0m \u001b[0;34m\u001b[0m\u001b[0m\n\u001b[1;32m   1331\u001b[0m \u001b[0;34m\u001b[0m\u001b[0m\n",
            "\u001b[0;31mKeyboardInterrupt\u001b[0m: "
          ]
        },
        {
          "output_type": "stream",
          "name": "stdout",
          "text": [
            "Error in callback <function flush_figures at 0x7f10871d40e0> (for post_execute):\n"
          ]
        },
        {
          "output_type": "error",
          "ename": "KeyboardInterrupt",
          "evalue": "ignored",
          "traceback": [
            "\u001b[0;31m---------------------------------------------------------------------------\u001b[0m",
            "\u001b[0;31mKeyboardInterrupt\u001b[0m                         Traceback (most recent call last)",
            "\u001b[0;32m/usr/local/lib/python3.7/dist-packages/ipykernel/pylab/backend_inline.py\u001b[0m in \u001b[0;36mflush_figures\u001b[0;34m()\u001b[0m\n\u001b[1;32m    115\u001b[0m         \u001b[0;31m# ignore the tracking, just draw and close all figures\u001b[0m\u001b[0;34m\u001b[0m\u001b[0;34m\u001b[0m\u001b[0;34m\u001b[0m\u001b[0m\n\u001b[1;32m    116\u001b[0m         \u001b[0;32mtry\u001b[0m\u001b[0;34m:\u001b[0m\u001b[0;34m\u001b[0m\u001b[0;34m\u001b[0m\u001b[0m\n\u001b[0;32m--> 117\u001b[0;31m             \u001b[0;32mreturn\u001b[0m \u001b[0mshow\u001b[0m\u001b[0;34m(\u001b[0m\u001b[0;32mTrue\u001b[0m\u001b[0;34m)\u001b[0m\u001b[0;34m\u001b[0m\u001b[0;34m\u001b[0m\u001b[0m\n\u001b[0m\u001b[1;32m    118\u001b[0m         \u001b[0;32mexcept\u001b[0m \u001b[0mException\u001b[0m \u001b[0;32mas\u001b[0m \u001b[0me\u001b[0m\u001b[0;34m:\u001b[0m\u001b[0;34m\u001b[0m\u001b[0;34m\u001b[0m\u001b[0m\n\u001b[1;32m    119\u001b[0m             \u001b[0;31m# safely show traceback if in IPython, else raise\u001b[0m\u001b[0;34m\u001b[0m\u001b[0;34m\u001b[0m\u001b[0;34m\u001b[0m\u001b[0m\n",
            "\u001b[0;32m/usr/local/lib/python3.7/dist-packages/ipykernel/pylab/backend_inline.py\u001b[0m in \u001b[0;36mshow\u001b[0;34m(close, block)\u001b[0m\n\u001b[1;32m     37\u001b[0m             display(\n\u001b[1;32m     38\u001b[0m                 \u001b[0mfigure_manager\u001b[0m\u001b[0;34m.\u001b[0m\u001b[0mcanvas\u001b[0m\u001b[0;34m.\u001b[0m\u001b[0mfigure\u001b[0m\u001b[0;34m,\u001b[0m\u001b[0;34m\u001b[0m\u001b[0;34m\u001b[0m\u001b[0m\n\u001b[0;32m---> 39\u001b[0;31m                 \u001b[0mmetadata\u001b[0m\u001b[0;34m=\u001b[0m\u001b[0m_fetch_figure_metadata\u001b[0m\u001b[0;34m(\u001b[0m\u001b[0mfigure_manager\u001b[0m\u001b[0;34m.\u001b[0m\u001b[0mcanvas\u001b[0m\u001b[0;34m.\u001b[0m\u001b[0mfigure\u001b[0m\u001b[0;34m)\u001b[0m\u001b[0;34m\u001b[0m\u001b[0;34m\u001b[0m\u001b[0m\n\u001b[0m\u001b[1;32m     40\u001b[0m             )\n\u001b[1;32m     41\u001b[0m     \u001b[0;32mfinally\u001b[0m\u001b[0;34m:\u001b[0m\u001b[0;34m\u001b[0m\u001b[0;34m\u001b[0m\u001b[0m\n",
            "\u001b[0;32m/usr/local/lib/python3.7/dist-packages/IPython/core/display.py\u001b[0m in \u001b[0;36mdisplay\u001b[0;34m(*objs, **kwargs)\u001b[0m\n\u001b[1;32m    304\u001b[0m             \u001b[0mpublish_display_data\u001b[0m\u001b[0;34m(\u001b[0m\u001b[0mdata\u001b[0m\u001b[0;34m=\u001b[0m\u001b[0mobj\u001b[0m\u001b[0;34m,\u001b[0m \u001b[0mmetadata\u001b[0m\u001b[0;34m=\u001b[0m\u001b[0mmetadata\u001b[0m\u001b[0;34m,\u001b[0m \u001b[0;34m**\u001b[0m\u001b[0mkwargs\u001b[0m\u001b[0;34m)\u001b[0m\u001b[0;34m\u001b[0m\u001b[0;34m\u001b[0m\u001b[0m\n\u001b[1;32m    305\u001b[0m         \u001b[0;32melse\u001b[0m\u001b[0;34m:\u001b[0m\u001b[0;34m\u001b[0m\u001b[0;34m\u001b[0m\u001b[0m\n\u001b[0;32m--> 306\u001b[0;31m             \u001b[0mformat_dict\u001b[0m\u001b[0;34m,\u001b[0m \u001b[0mmd_dict\u001b[0m \u001b[0;34m=\u001b[0m \u001b[0mformat\u001b[0m\u001b[0;34m(\u001b[0m\u001b[0mobj\u001b[0m\u001b[0;34m,\u001b[0m \u001b[0minclude\u001b[0m\u001b[0;34m=\u001b[0m\u001b[0minclude\u001b[0m\u001b[0;34m,\u001b[0m \u001b[0mexclude\u001b[0m\u001b[0;34m=\u001b[0m\u001b[0mexclude\u001b[0m\u001b[0;34m)\u001b[0m\u001b[0;34m\u001b[0m\u001b[0;34m\u001b[0m\u001b[0m\n\u001b[0m\u001b[1;32m    307\u001b[0m             \u001b[0;32mif\u001b[0m \u001b[0;32mnot\u001b[0m \u001b[0mformat_dict\u001b[0m\u001b[0;34m:\u001b[0m\u001b[0;34m\u001b[0m\u001b[0;34m\u001b[0m\u001b[0m\n\u001b[1;32m    308\u001b[0m                 \u001b[0;31m# nothing to display (e.g. _ipython_display_ took over)\u001b[0m\u001b[0;34m\u001b[0m\u001b[0;34m\u001b[0m\u001b[0;34m\u001b[0m\u001b[0m\n",
            "\u001b[0;32m/usr/local/lib/python3.7/dist-packages/IPython/core/formatters.py\u001b[0m in \u001b[0;36mformat\u001b[0;34m(self, obj, include, exclude)\u001b[0m\n\u001b[1;32m    171\u001b[0m             \u001b[0mmd\u001b[0m \u001b[0;34m=\u001b[0m \u001b[0;32mNone\u001b[0m\u001b[0;34m\u001b[0m\u001b[0;34m\u001b[0m\u001b[0m\n\u001b[1;32m    172\u001b[0m             \u001b[0;32mtry\u001b[0m\u001b[0;34m:\u001b[0m\u001b[0;34m\u001b[0m\u001b[0;34m\u001b[0m\u001b[0m\n\u001b[0;32m--> 173\u001b[0;31m                 \u001b[0mdata\u001b[0m \u001b[0;34m=\u001b[0m \u001b[0mformatter\u001b[0m\u001b[0;34m(\u001b[0m\u001b[0mobj\u001b[0m\u001b[0;34m)\u001b[0m\u001b[0;34m\u001b[0m\u001b[0;34m\u001b[0m\u001b[0m\n\u001b[0m\u001b[1;32m    174\u001b[0m             \u001b[0;32mexcept\u001b[0m\u001b[0;34m:\u001b[0m\u001b[0;34m\u001b[0m\u001b[0;34m\u001b[0m\u001b[0m\n\u001b[1;32m    175\u001b[0m                 \u001b[0;31m# FIXME: log the exception\u001b[0m\u001b[0;34m\u001b[0m\u001b[0;34m\u001b[0m\u001b[0;34m\u001b[0m\u001b[0m\n",
            "\u001b[0;32m<decorator-gen-2>\u001b[0m in \u001b[0;36m__call__\u001b[0;34m(self, obj)\u001b[0m\n",
            "\u001b[0;32m/usr/local/lib/python3.7/dist-packages/IPython/core/formatters.py\u001b[0m in \u001b[0;36mcatch_format_error\u001b[0;34m(method, self, *args, **kwargs)\u001b[0m\n\u001b[1;32m    215\u001b[0m     \u001b[0;34m\"\"\"show traceback on failed format call\"\"\"\u001b[0m\u001b[0;34m\u001b[0m\u001b[0;34m\u001b[0m\u001b[0m\n\u001b[1;32m    216\u001b[0m     \u001b[0;32mtry\u001b[0m\u001b[0;34m:\u001b[0m\u001b[0;34m\u001b[0m\u001b[0;34m\u001b[0m\u001b[0m\n\u001b[0;32m--> 217\u001b[0;31m         \u001b[0mr\u001b[0m \u001b[0;34m=\u001b[0m \u001b[0mmethod\u001b[0m\u001b[0;34m(\u001b[0m\u001b[0mself\u001b[0m\u001b[0;34m,\u001b[0m \u001b[0;34m*\u001b[0m\u001b[0margs\u001b[0m\u001b[0;34m,\u001b[0m \u001b[0;34m**\u001b[0m\u001b[0mkwargs\u001b[0m\u001b[0;34m)\u001b[0m\u001b[0;34m\u001b[0m\u001b[0;34m\u001b[0m\u001b[0m\n\u001b[0m\u001b[1;32m    218\u001b[0m     \u001b[0;32mexcept\u001b[0m \u001b[0mNotImplementedError\u001b[0m\u001b[0;34m:\u001b[0m\u001b[0;34m\u001b[0m\u001b[0;34m\u001b[0m\u001b[0m\n\u001b[1;32m    219\u001b[0m         \u001b[0;31m# don't warn on NotImplementedErrors\u001b[0m\u001b[0;34m\u001b[0m\u001b[0;34m\u001b[0m\u001b[0;34m\u001b[0m\u001b[0m\n",
            "\u001b[0;32m/usr/local/lib/python3.7/dist-packages/IPython/core/formatters.py\u001b[0m in \u001b[0;36m__call__\u001b[0;34m(self, obj)\u001b[0m\n\u001b[1;32m    332\u001b[0m                 \u001b[0;32mpass\u001b[0m\u001b[0;34m\u001b[0m\u001b[0;34m\u001b[0m\u001b[0m\n\u001b[1;32m    333\u001b[0m             \u001b[0;32melse\u001b[0m\u001b[0;34m:\u001b[0m\u001b[0;34m\u001b[0m\u001b[0;34m\u001b[0m\u001b[0m\n\u001b[0;32m--> 334\u001b[0;31m                 \u001b[0;32mreturn\u001b[0m \u001b[0mprinter\u001b[0m\u001b[0;34m(\u001b[0m\u001b[0mobj\u001b[0m\u001b[0;34m)\u001b[0m\u001b[0;34m\u001b[0m\u001b[0;34m\u001b[0m\u001b[0m\n\u001b[0m\u001b[1;32m    335\u001b[0m             \u001b[0;31m# Finally look for special method names\u001b[0m\u001b[0;34m\u001b[0m\u001b[0;34m\u001b[0m\u001b[0;34m\u001b[0m\u001b[0m\n\u001b[1;32m    336\u001b[0m             \u001b[0mmethod\u001b[0m \u001b[0;34m=\u001b[0m \u001b[0mget_real_method\u001b[0m\u001b[0;34m(\u001b[0m\u001b[0mobj\u001b[0m\u001b[0;34m,\u001b[0m \u001b[0mself\u001b[0m\u001b[0;34m.\u001b[0m\u001b[0mprint_method\u001b[0m\u001b[0;34m)\u001b[0m\u001b[0;34m\u001b[0m\u001b[0;34m\u001b[0m\u001b[0m\n",
            "\u001b[0;32m/usr/local/lib/python3.7/dist-packages/IPython/core/pylabtools.py\u001b[0m in \u001b[0;36m<lambda>\u001b[0;34m(fig)\u001b[0m\n\u001b[1;32m    239\u001b[0m \u001b[0;34m\u001b[0m\u001b[0m\n\u001b[1;32m    240\u001b[0m     \u001b[0;32mif\u001b[0m \u001b[0;34m'png'\u001b[0m \u001b[0;32min\u001b[0m \u001b[0mformats\u001b[0m\u001b[0;34m:\u001b[0m\u001b[0;34m\u001b[0m\u001b[0;34m\u001b[0m\u001b[0m\n\u001b[0;32m--> 241\u001b[0;31m         \u001b[0mpng_formatter\u001b[0m\u001b[0;34m.\u001b[0m\u001b[0mfor_type\u001b[0m\u001b[0;34m(\u001b[0m\u001b[0mFigure\u001b[0m\u001b[0;34m,\u001b[0m \u001b[0;32mlambda\u001b[0m \u001b[0mfig\u001b[0m\u001b[0;34m:\u001b[0m \u001b[0mprint_figure\u001b[0m\u001b[0;34m(\u001b[0m\u001b[0mfig\u001b[0m\u001b[0;34m,\u001b[0m \u001b[0;34m'png'\u001b[0m\u001b[0;34m,\u001b[0m \u001b[0;34m**\u001b[0m\u001b[0mkwargs\u001b[0m\u001b[0;34m)\u001b[0m\u001b[0;34m)\u001b[0m\u001b[0;34m\u001b[0m\u001b[0;34m\u001b[0m\u001b[0m\n\u001b[0m\u001b[1;32m    242\u001b[0m     \u001b[0;32mif\u001b[0m \u001b[0;34m'retina'\u001b[0m \u001b[0;32min\u001b[0m \u001b[0mformats\u001b[0m \u001b[0;32mor\u001b[0m \u001b[0;34m'png2x'\u001b[0m \u001b[0;32min\u001b[0m \u001b[0mformats\u001b[0m\u001b[0;34m:\u001b[0m\u001b[0;34m\u001b[0m\u001b[0;34m\u001b[0m\u001b[0m\n\u001b[1;32m    243\u001b[0m         \u001b[0mpng_formatter\u001b[0m\u001b[0;34m.\u001b[0m\u001b[0mfor_type\u001b[0m\u001b[0;34m(\u001b[0m\u001b[0mFigure\u001b[0m\u001b[0;34m,\u001b[0m \u001b[0;32mlambda\u001b[0m \u001b[0mfig\u001b[0m\u001b[0;34m:\u001b[0m \u001b[0mretina_figure\u001b[0m\u001b[0;34m(\u001b[0m\u001b[0mfig\u001b[0m\u001b[0;34m,\u001b[0m \u001b[0;34m**\u001b[0m\u001b[0mkwargs\u001b[0m\u001b[0;34m)\u001b[0m\u001b[0;34m)\u001b[0m\u001b[0;34m\u001b[0m\u001b[0;34m\u001b[0m\u001b[0m\n",
            "\u001b[0;32m/usr/local/lib/python3.7/dist-packages/IPython/core/pylabtools.py\u001b[0m in \u001b[0;36mprint_figure\u001b[0;34m(fig, fmt, bbox_inches, **kwargs)\u001b[0m\n\u001b[1;32m    123\u001b[0m \u001b[0;34m\u001b[0m\u001b[0m\n\u001b[1;32m    124\u001b[0m     \u001b[0mbytes_io\u001b[0m \u001b[0;34m=\u001b[0m \u001b[0mBytesIO\u001b[0m\u001b[0;34m(\u001b[0m\u001b[0;34m)\u001b[0m\u001b[0;34m\u001b[0m\u001b[0;34m\u001b[0m\u001b[0m\n\u001b[0;32m--> 125\u001b[0;31m     \u001b[0mfig\u001b[0m\u001b[0;34m.\u001b[0m\u001b[0mcanvas\u001b[0m\u001b[0;34m.\u001b[0m\u001b[0mprint_figure\u001b[0m\u001b[0;34m(\u001b[0m\u001b[0mbytes_io\u001b[0m\u001b[0;34m,\u001b[0m \u001b[0;34m**\u001b[0m\u001b[0mkw\u001b[0m\u001b[0;34m)\u001b[0m\u001b[0;34m\u001b[0m\u001b[0;34m\u001b[0m\u001b[0m\n\u001b[0m\u001b[1;32m    126\u001b[0m     \u001b[0mdata\u001b[0m \u001b[0;34m=\u001b[0m \u001b[0mbytes_io\u001b[0m\u001b[0;34m.\u001b[0m\u001b[0mgetvalue\u001b[0m\u001b[0;34m(\u001b[0m\u001b[0;34m)\u001b[0m\u001b[0;34m\u001b[0m\u001b[0;34m\u001b[0m\u001b[0m\n\u001b[1;32m    127\u001b[0m     \u001b[0;32mif\u001b[0m \u001b[0mfmt\u001b[0m \u001b[0;34m==\u001b[0m \u001b[0;34m'svg'\u001b[0m\u001b[0;34m:\u001b[0m\u001b[0;34m\u001b[0m\u001b[0;34m\u001b[0m\u001b[0m\n",
            "\u001b[0;32m/usr/local/lib/python3.7/dist-packages/matplotlib/backend_bases.py\u001b[0m in \u001b[0;36mprint_figure\u001b[0;34m(self, filename, dpi, facecolor, edgecolor, orientation, format, bbox_inches, **kwargs)\u001b[0m\n\u001b[1;32m   2098\u001b[0m                            else suppress())\n\u001b[1;32m   2099\u001b[0m                     \u001b[0;32mwith\u001b[0m \u001b[0mctx\u001b[0m\u001b[0;34m:\u001b[0m\u001b[0;34m\u001b[0m\u001b[0;34m\u001b[0m\u001b[0m\n\u001b[0;32m-> 2100\u001b[0;31m                         \u001b[0mself\u001b[0m\u001b[0;34m.\u001b[0m\u001b[0mfigure\u001b[0m\u001b[0;34m.\u001b[0m\u001b[0mdraw\u001b[0m\u001b[0;34m(\u001b[0m\u001b[0mrenderer\u001b[0m\u001b[0;34m)\u001b[0m\u001b[0;34m\u001b[0m\u001b[0;34m\u001b[0m\u001b[0m\n\u001b[0m\u001b[1;32m   2101\u001b[0m                     \u001b[0mbbox_artists\u001b[0m \u001b[0;34m=\u001b[0m \u001b[0mkwargs\u001b[0m\u001b[0;34m.\u001b[0m\u001b[0mpop\u001b[0m\u001b[0;34m(\u001b[0m\u001b[0;34m\"bbox_extra_artists\"\u001b[0m\u001b[0;34m,\u001b[0m \u001b[0;32mNone\u001b[0m\u001b[0;34m)\u001b[0m\u001b[0;34m\u001b[0m\u001b[0;34m\u001b[0m\u001b[0m\n\u001b[1;32m   2102\u001b[0m                     bbox_inches = self.figure.get_tightbbox(renderer,\n",
            "\u001b[0;32m/usr/local/lib/python3.7/dist-packages/matplotlib/artist.py\u001b[0m in \u001b[0;36mdraw_wrapper\u001b[0;34m(artist, renderer, *args, **kwargs)\u001b[0m\n\u001b[1;32m     36\u001b[0m                 \u001b[0mrenderer\u001b[0m\u001b[0;34m.\u001b[0m\u001b[0mstart_filter\u001b[0m\u001b[0;34m(\u001b[0m\u001b[0;34m)\u001b[0m\u001b[0;34m\u001b[0m\u001b[0;34m\u001b[0m\u001b[0m\n\u001b[1;32m     37\u001b[0m \u001b[0;34m\u001b[0m\u001b[0m\n\u001b[0;32m---> 38\u001b[0;31m             \u001b[0;32mreturn\u001b[0m \u001b[0mdraw\u001b[0m\u001b[0;34m(\u001b[0m\u001b[0martist\u001b[0m\u001b[0;34m,\u001b[0m \u001b[0mrenderer\u001b[0m\u001b[0;34m,\u001b[0m \u001b[0;34m*\u001b[0m\u001b[0margs\u001b[0m\u001b[0;34m,\u001b[0m \u001b[0;34m**\u001b[0m\u001b[0mkwargs\u001b[0m\u001b[0;34m)\u001b[0m\u001b[0;34m\u001b[0m\u001b[0;34m\u001b[0m\u001b[0m\n\u001b[0m\u001b[1;32m     39\u001b[0m         \u001b[0;32mfinally\u001b[0m\u001b[0;34m:\u001b[0m\u001b[0;34m\u001b[0m\u001b[0;34m\u001b[0m\u001b[0m\n\u001b[1;32m     40\u001b[0m             \u001b[0;32mif\u001b[0m \u001b[0martist\u001b[0m\u001b[0;34m.\u001b[0m\u001b[0mget_agg_filter\u001b[0m\u001b[0;34m(\u001b[0m\u001b[0;34m)\u001b[0m \u001b[0;32mis\u001b[0m \u001b[0;32mnot\u001b[0m \u001b[0;32mNone\u001b[0m\u001b[0;34m:\u001b[0m\u001b[0;34m\u001b[0m\u001b[0;34m\u001b[0m\u001b[0m\n",
            "\u001b[0;32m/usr/local/lib/python3.7/dist-packages/matplotlib/figure.py\u001b[0m in \u001b[0;36mdraw\u001b[0;34m(self, renderer)\u001b[0m\n\u001b[1;32m   1734\u001b[0m             \u001b[0mself\u001b[0m\u001b[0;34m.\u001b[0m\u001b[0mpatch\u001b[0m\u001b[0;34m.\u001b[0m\u001b[0mdraw\u001b[0m\u001b[0;34m(\u001b[0m\u001b[0mrenderer\u001b[0m\u001b[0;34m)\u001b[0m\u001b[0;34m\u001b[0m\u001b[0;34m\u001b[0m\u001b[0m\n\u001b[1;32m   1735\u001b[0m             mimage._draw_list_compositing_images(\n\u001b[0;32m-> 1736\u001b[0;31m                 renderer, self, artists, self.suppressComposite)\n\u001b[0m\u001b[1;32m   1737\u001b[0m \u001b[0;34m\u001b[0m\u001b[0m\n\u001b[1;32m   1738\u001b[0m             \u001b[0mrenderer\u001b[0m\u001b[0;34m.\u001b[0m\u001b[0mclose_group\u001b[0m\u001b[0;34m(\u001b[0m\u001b[0;34m'figure'\u001b[0m\u001b[0;34m)\u001b[0m\u001b[0;34m\u001b[0m\u001b[0;34m\u001b[0m\u001b[0m\n",
            "\u001b[0;32m/usr/local/lib/python3.7/dist-packages/matplotlib/image.py\u001b[0m in \u001b[0;36m_draw_list_compositing_images\u001b[0;34m(renderer, parent, artists, suppress_composite)\u001b[0m\n\u001b[1;32m    135\u001b[0m     \u001b[0;32mif\u001b[0m \u001b[0mnot_composite\u001b[0m \u001b[0;32mor\u001b[0m \u001b[0;32mnot\u001b[0m \u001b[0mhas_images\u001b[0m\u001b[0;34m:\u001b[0m\u001b[0;34m\u001b[0m\u001b[0;34m\u001b[0m\u001b[0m\n\u001b[1;32m    136\u001b[0m         \u001b[0;32mfor\u001b[0m \u001b[0ma\u001b[0m \u001b[0;32min\u001b[0m \u001b[0martists\u001b[0m\u001b[0;34m:\u001b[0m\u001b[0;34m\u001b[0m\u001b[0;34m\u001b[0m\u001b[0m\n\u001b[0;32m--> 137\u001b[0;31m             \u001b[0ma\u001b[0m\u001b[0;34m.\u001b[0m\u001b[0mdraw\u001b[0m\u001b[0;34m(\u001b[0m\u001b[0mrenderer\u001b[0m\u001b[0;34m)\u001b[0m\u001b[0;34m\u001b[0m\u001b[0;34m\u001b[0m\u001b[0m\n\u001b[0m\u001b[1;32m    138\u001b[0m     \u001b[0;32melse\u001b[0m\u001b[0;34m:\u001b[0m\u001b[0;34m\u001b[0m\u001b[0;34m\u001b[0m\u001b[0m\n\u001b[1;32m    139\u001b[0m         \u001b[0;31m# Composite any adjacent images together\u001b[0m\u001b[0;34m\u001b[0m\u001b[0;34m\u001b[0m\u001b[0;34m\u001b[0m\u001b[0m\n",
            "\u001b[0;32m/usr/local/lib/python3.7/dist-packages/matplotlib/artist.py\u001b[0m in \u001b[0;36mdraw_wrapper\u001b[0;34m(artist, renderer, *args, **kwargs)\u001b[0m\n\u001b[1;32m     36\u001b[0m                 \u001b[0mrenderer\u001b[0m\u001b[0;34m.\u001b[0m\u001b[0mstart_filter\u001b[0m\u001b[0;34m(\u001b[0m\u001b[0;34m)\u001b[0m\u001b[0;34m\u001b[0m\u001b[0;34m\u001b[0m\u001b[0m\n\u001b[1;32m     37\u001b[0m \u001b[0;34m\u001b[0m\u001b[0m\n\u001b[0;32m---> 38\u001b[0;31m             \u001b[0;32mreturn\u001b[0m \u001b[0mdraw\u001b[0m\u001b[0;34m(\u001b[0m\u001b[0martist\u001b[0m\u001b[0;34m,\u001b[0m \u001b[0mrenderer\u001b[0m\u001b[0;34m,\u001b[0m \u001b[0;34m*\u001b[0m\u001b[0margs\u001b[0m\u001b[0;34m,\u001b[0m \u001b[0;34m**\u001b[0m\u001b[0mkwargs\u001b[0m\u001b[0;34m)\u001b[0m\u001b[0;34m\u001b[0m\u001b[0;34m\u001b[0m\u001b[0m\n\u001b[0m\u001b[1;32m     39\u001b[0m         \u001b[0;32mfinally\u001b[0m\u001b[0;34m:\u001b[0m\u001b[0;34m\u001b[0m\u001b[0;34m\u001b[0m\u001b[0m\n\u001b[1;32m     40\u001b[0m             \u001b[0;32mif\u001b[0m \u001b[0martist\u001b[0m\u001b[0;34m.\u001b[0m\u001b[0mget_agg_filter\u001b[0m\u001b[0;34m(\u001b[0m\u001b[0;34m)\u001b[0m \u001b[0;32mis\u001b[0m \u001b[0;32mnot\u001b[0m \u001b[0;32mNone\u001b[0m\u001b[0;34m:\u001b[0m\u001b[0;34m\u001b[0m\u001b[0;34m\u001b[0m\u001b[0m\n",
            "\u001b[0;32m/usr/local/lib/python3.7/dist-packages/matplotlib/axes/_base.py\u001b[0m in \u001b[0;36mdraw\u001b[0;34m(self, renderer, inframe)\u001b[0m\n\u001b[1;32m   2628\u001b[0m             \u001b[0mrenderer\u001b[0m\u001b[0;34m.\u001b[0m\u001b[0mstop_rasterizing\u001b[0m\u001b[0;34m(\u001b[0m\u001b[0;34m)\u001b[0m\u001b[0;34m\u001b[0m\u001b[0;34m\u001b[0m\u001b[0m\n\u001b[1;32m   2629\u001b[0m \u001b[0;34m\u001b[0m\u001b[0m\n\u001b[0;32m-> 2630\u001b[0;31m         \u001b[0mmimage\u001b[0m\u001b[0;34m.\u001b[0m\u001b[0m_draw_list_compositing_images\u001b[0m\u001b[0;34m(\u001b[0m\u001b[0mrenderer\u001b[0m\u001b[0;34m,\u001b[0m \u001b[0mself\u001b[0m\u001b[0;34m,\u001b[0m \u001b[0martists\u001b[0m\u001b[0;34m)\u001b[0m\u001b[0;34m\u001b[0m\u001b[0;34m\u001b[0m\u001b[0m\n\u001b[0m\u001b[1;32m   2631\u001b[0m \u001b[0;34m\u001b[0m\u001b[0m\n\u001b[1;32m   2632\u001b[0m         \u001b[0mrenderer\u001b[0m\u001b[0;34m.\u001b[0m\u001b[0mclose_group\u001b[0m\u001b[0;34m(\u001b[0m\u001b[0;34m'axes'\u001b[0m\u001b[0;34m)\u001b[0m\u001b[0;34m\u001b[0m\u001b[0;34m\u001b[0m\u001b[0m\n",
            "\u001b[0;32m/usr/local/lib/python3.7/dist-packages/matplotlib/image.py\u001b[0m in \u001b[0;36m_draw_list_compositing_images\u001b[0;34m(renderer, parent, artists, suppress_composite)\u001b[0m\n\u001b[1;32m    135\u001b[0m     \u001b[0;32mif\u001b[0m \u001b[0mnot_composite\u001b[0m \u001b[0;32mor\u001b[0m \u001b[0;32mnot\u001b[0m \u001b[0mhas_images\u001b[0m\u001b[0;34m:\u001b[0m\u001b[0;34m\u001b[0m\u001b[0;34m\u001b[0m\u001b[0m\n\u001b[1;32m    136\u001b[0m         \u001b[0;32mfor\u001b[0m \u001b[0ma\u001b[0m \u001b[0;32min\u001b[0m \u001b[0martists\u001b[0m\u001b[0;34m:\u001b[0m\u001b[0;34m\u001b[0m\u001b[0;34m\u001b[0m\u001b[0m\n\u001b[0;32m--> 137\u001b[0;31m             \u001b[0ma\u001b[0m\u001b[0;34m.\u001b[0m\u001b[0mdraw\u001b[0m\u001b[0;34m(\u001b[0m\u001b[0mrenderer\u001b[0m\u001b[0;34m)\u001b[0m\u001b[0;34m\u001b[0m\u001b[0;34m\u001b[0m\u001b[0m\n\u001b[0m\u001b[1;32m    138\u001b[0m     \u001b[0;32melse\u001b[0m\u001b[0;34m:\u001b[0m\u001b[0;34m\u001b[0m\u001b[0;34m\u001b[0m\u001b[0m\n\u001b[1;32m    139\u001b[0m         \u001b[0;31m# Composite any adjacent images together\u001b[0m\u001b[0;34m\u001b[0m\u001b[0;34m\u001b[0m\u001b[0;34m\u001b[0m\u001b[0m\n",
            "\u001b[0;32m/usr/local/lib/python3.7/dist-packages/matplotlib/artist.py\u001b[0m in \u001b[0;36mdraw_wrapper\u001b[0;34m(artist, renderer, *args, **kwargs)\u001b[0m\n\u001b[1;32m     36\u001b[0m                 \u001b[0mrenderer\u001b[0m\u001b[0;34m.\u001b[0m\u001b[0mstart_filter\u001b[0m\u001b[0;34m(\u001b[0m\u001b[0;34m)\u001b[0m\u001b[0;34m\u001b[0m\u001b[0;34m\u001b[0m\u001b[0m\n\u001b[1;32m     37\u001b[0m \u001b[0;34m\u001b[0m\u001b[0m\n\u001b[0;32m---> 38\u001b[0;31m             \u001b[0;32mreturn\u001b[0m \u001b[0mdraw\u001b[0m\u001b[0;34m(\u001b[0m\u001b[0martist\u001b[0m\u001b[0;34m,\u001b[0m \u001b[0mrenderer\u001b[0m\u001b[0;34m,\u001b[0m \u001b[0;34m*\u001b[0m\u001b[0margs\u001b[0m\u001b[0;34m,\u001b[0m \u001b[0;34m**\u001b[0m\u001b[0mkwargs\u001b[0m\u001b[0;34m)\u001b[0m\u001b[0;34m\u001b[0m\u001b[0;34m\u001b[0m\u001b[0m\n\u001b[0m\u001b[1;32m     39\u001b[0m         \u001b[0;32mfinally\u001b[0m\u001b[0;34m:\u001b[0m\u001b[0;34m\u001b[0m\u001b[0;34m\u001b[0m\u001b[0m\n\u001b[1;32m     40\u001b[0m             \u001b[0;32mif\u001b[0m \u001b[0martist\u001b[0m\u001b[0;34m.\u001b[0m\u001b[0mget_agg_filter\u001b[0m\u001b[0;34m(\u001b[0m\u001b[0;34m)\u001b[0m \u001b[0;32mis\u001b[0m \u001b[0;32mnot\u001b[0m \u001b[0;32mNone\u001b[0m\u001b[0;34m:\u001b[0m\u001b[0;34m\u001b[0m\u001b[0;34m\u001b[0m\u001b[0m\n",
            "\u001b[0;32m/usr/local/lib/python3.7/dist-packages/matplotlib/text.py\u001b[0m in \u001b[0;36mdraw\u001b[0;34m(self, renderer)\u001b[0m\n\u001b[1;32m    683\u001b[0m \u001b[0;34m\u001b[0m\u001b[0m\n\u001b[1;32m    684\u001b[0m         \u001b[0;32mwith\u001b[0m \u001b[0m_wrap_text\u001b[0m\u001b[0;34m(\u001b[0m\u001b[0mself\u001b[0m\u001b[0;34m)\u001b[0m \u001b[0;32mas\u001b[0m \u001b[0mtextobj\u001b[0m\u001b[0;34m:\u001b[0m\u001b[0;34m\u001b[0m\u001b[0;34m\u001b[0m\u001b[0m\n\u001b[0;32m--> 685\u001b[0;31m             \u001b[0mbbox\u001b[0m\u001b[0;34m,\u001b[0m \u001b[0minfo\u001b[0m\u001b[0;34m,\u001b[0m \u001b[0mdescent\u001b[0m \u001b[0;34m=\u001b[0m \u001b[0mtextobj\u001b[0m\u001b[0;34m.\u001b[0m\u001b[0m_get_layout\u001b[0m\u001b[0;34m(\u001b[0m\u001b[0mrenderer\u001b[0m\u001b[0;34m)\u001b[0m\u001b[0;34m\u001b[0m\u001b[0;34m\u001b[0m\u001b[0m\n\u001b[0m\u001b[1;32m    686\u001b[0m             \u001b[0mtrans\u001b[0m \u001b[0;34m=\u001b[0m \u001b[0mtextobj\u001b[0m\u001b[0;34m.\u001b[0m\u001b[0mget_transform\u001b[0m\u001b[0;34m(\u001b[0m\u001b[0;34m)\u001b[0m\u001b[0;34m\u001b[0m\u001b[0;34m\u001b[0m\u001b[0m\n\u001b[1;32m    687\u001b[0m \u001b[0;34m\u001b[0m\u001b[0m\n",
            "\u001b[0;32m/usr/local/lib/python3.7/dist-packages/matplotlib/text.py\u001b[0m in \u001b[0;36m_get_layout\u001b[0;34m(self, renderer)\u001b[0m\n\u001b[1;32m    358\u001b[0m         \u001b[0mcorners_rotated\u001b[0m \u001b[0;34m=\u001b[0m \u001b[0mM\u001b[0m\u001b[0;34m.\u001b[0m\u001b[0mtransform\u001b[0m\u001b[0;34m(\u001b[0m\u001b[0mcorners_horiz\u001b[0m\u001b[0;34m)\u001b[0m\u001b[0;34m\u001b[0m\u001b[0;34m\u001b[0m\u001b[0m\n\u001b[1;32m    359\u001b[0m         \u001b[0;31m# compute the bounds of the rotated box\u001b[0m\u001b[0;34m\u001b[0m\u001b[0;34m\u001b[0m\u001b[0;34m\u001b[0m\u001b[0m\n\u001b[0;32m--> 360\u001b[0;31m         \u001b[0mxmin\u001b[0m \u001b[0;34m=\u001b[0m \u001b[0mcorners_rotated\u001b[0m\u001b[0;34m[\u001b[0m\u001b[0;34m:\u001b[0m\u001b[0;34m,\u001b[0m \u001b[0;36m0\u001b[0m\u001b[0;34m]\u001b[0m\u001b[0;34m.\u001b[0m\u001b[0mmin\u001b[0m\u001b[0;34m(\u001b[0m\u001b[0;34m)\u001b[0m\u001b[0;34m\u001b[0m\u001b[0;34m\u001b[0m\u001b[0m\n\u001b[0m\u001b[1;32m    361\u001b[0m         \u001b[0mxmax\u001b[0m \u001b[0;34m=\u001b[0m \u001b[0mcorners_rotated\u001b[0m\u001b[0;34m[\u001b[0m\u001b[0;34m:\u001b[0m\u001b[0;34m,\u001b[0m \u001b[0;36m0\u001b[0m\u001b[0;34m]\u001b[0m\u001b[0;34m.\u001b[0m\u001b[0mmax\u001b[0m\u001b[0;34m(\u001b[0m\u001b[0;34m)\u001b[0m\u001b[0;34m\u001b[0m\u001b[0;34m\u001b[0m\u001b[0m\n\u001b[1;32m    362\u001b[0m         \u001b[0mymin\u001b[0m \u001b[0;34m=\u001b[0m \u001b[0mcorners_rotated\u001b[0m\u001b[0;34m[\u001b[0m\u001b[0;34m:\u001b[0m\u001b[0;34m,\u001b[0m \u001b[0;36m1\u001b[0m\u001b[0;34m]\u001b[0m\u001b[0;34m.\u001b[0m\u001b[0mmin\u001b[0m\u001b[0;34m(\u001b[0m\u001b[0;34m)\u001b[0m\u001b[0;34m\u001b[0m\u001b[0;34m\u001b[0m\u001b[0m\n",
            "\u001b[0;32m/usr/local/lib/python3.7/dist-packages/numpy/core/_methods.py\u001b[0m in \u001b[0;36m_amin\u001b[0;34m(a, axis, out, keepdims, initial, where)\u001b[0m\n\u001b[1;32m     41\u001b[0m def _amin(a, axis=None, out=None, keepdims=False,\n\u001b[1;32m     42\u001b[0m           initial=_NoValue, where=True):\n\u001b[0;32m---> 43\u001b[0;31m     \u001b[0;32mreturn\u001b[0m \u001b[0mumr_minimum\u001b[0m\u001b[0;34m(\u001b[0m\u001b[0ma\u001b[0m\u001b[0;34m,\u001b[0m \u001b[0maxis\u001b[0m\u001b[0;34m,\u001b[0m \u001b[0;32mNone\u001b[0m\u001b[0;34m,\u001b[0m \u001b[0mout\u001b[0m\u001b[0;34m,\u001b[0m \u001b[0mkeepdims\u001b[0m\u001b[0;34m,\u001b[0m \u001b[0minitial\u001b[0m\u001b[0;34m,\u001b[0m \u001b[0mwhere\u001b[0m\u001b[0;34m)\u001b[0m\u001b[0;34m\u001b[0m\u001b[0;34m\u001b[0m\u001b[0m\n\u001b[0m\u001b[1;32m     44\u001b[0m \u001b[0;34m\u001b[0m\u001b[0m\n\u001b[1;32m     45\u001b[0m def _sum(a, axis=None, dtype=None, out=None, keepdims=False,\n",
            "\u001b[0;31mKeyboardInterrupt\u001b[0m: "
          ]
        }
      ]
    },
    {
      "cell_type": "markdown",
      "source": [
        "\n",
        "Nó mang giá trị 0 trong toàn bộ tập dữ liệu => không đóng góp cho kết quả bài toán"
      ],
      "metadata": {
        "id": "s9HHmkl0PxfT"
      }
    },
    {
      "cell_type": "code",
      "source": [
        "X=df.drop(['class','veil-type'],axis=1) \n",
        "y=df['class']\n",
        "(X_train,X_test,y_train,y_test)=train_test_split(X,y,test_size=0.30)\n"
      ],
      "metadata": {
        "id": "19l38oHgOT3C"
      },
      "execution_count": 79,
      "outputs": []
    },
    {
      "cell_type": "code",
      "source": [
        "from sklearn.model_selection import GridSearchCV,train_test_split\n",
        "# sử dụng kỹ thuật Grid search để tune mô hình với bộ tham số tối ưu nhất\n",
        "model=SVC()\n",
        "param_grid = [{'kernel': ['rbf'], 'gamma': [1e-3, 1e-4, 1e-5],'C': [1, 10, 100]},\n",
        "              {'kernel': ['linear'], 'C': [1, 10, 100]}]\n",
        "grid=GridSearchCV(model,param_grid,cv=10,scoring='accuracy')\n",
        "print(\"Tune hyper-parameters\")\n",
        "grid.fit(X_train,y_train)\n",
        "print(grid.best_params_)\n",
        "print(np.round(grid.best_score_,3))"
      ],
      "metadata": {
        "id": "A0ybRl8vQKWC",
        "outputId": "db026958-17d8-4f6b-8580-e76062c25fa4",
        "colab": {
          "base_uri": "https://localhost:8080/"
        }
      },
      "execution_count": 80,
      "outputs": [
        {
          "output_type": "stream",
          "name": "stdout",
          "text": [
            "Tune hyper-parameters\n",
            "{'C': 100, 'gamma': 0.001, 'kernel': 'rbf'}\n",
            "1.0\n"
          ]
        }
      ]
    },
    {
      "cell_type": "code",
      "source": [
        "#Define lại model sử dụng các siêu tham số ở trên\n",
        "model=SVC(C=100,gamma=0.001,kernel='rbf')\n",
        "model.fit(X_train, y_train)\n",
        "y_pred = model.predict(X_test)\n",
        "print(y_pred)"
      ],
      "metadata": {
        "id": "1rILIvzJQgln",
        "outputId": "8b690dfb-b476-4fb9-892b-a8f49e3b6559",
        "colab": {
          "base_uri": "https://localhost:8080/"
        }
      },
      "execution_count": 81,
      "outputs": [
        {
          "output_type": "stream",
          "name": "stdout",
          "text": [
            "[1 0 0 ... 0 0 1]\n"
          ]
        }
      ]
    },
    {
      "cell_type": "code",
      "source": [
        "# Đánh giá model = f1-score\n",
        "from sklearn.metrics import classification_report\n",
        "print(classification_report(y_test, y_pred))"
      ],
      "metadata": {
        "id": "9SmgyCF2Qr-X",
        "outputId": "f313835e-1445-4f57-efd6-0c7f26235b3b",
        "colab": {
          "base_uri": "https://localhost:8080/"
        }
      },
      "execution_count": 82,
      "outputs": [
        {
          "output_type": "stream",
          "name": "stdout",
          "text": [
            "              precision    recall  f1-score   support\n",
            "\n",
            "           0       1.00      1.00      1.00      1177\n",
            "           1       1.00      1.00      1.00      1261\n",
            "\n",
            "    accuracy                           1.00      2438\n",
            "   macro avg       1.00      1.00      1.00      2438\n",
            "weighted avg       1.00      1.00      1.00      2438\n",
            "\n"
          ]
        }
      ]
    },
    {
      "cell_type": "markdown",
      "source": [
        "Nhận xét: Out trình bộ dữ liệu :>"
      ],
      "metadata": {
        "id": "_LlkrmaBRyvl"
      }
    },
    {
      "cell_type": "markdown",
      "source": [
        "## 4.Multiclass SVM"
      ],
      "metadata": {
        "id": "f3cM0TugTQ-l"
      }
    },
    {
      "cell_type": "markdown",
      "source": [
        "Các phương pháp Support Vector Machine đã đề cập (Hard Margin, Soft Margin, Kernel) đều được xây dựng nhằm giải quyết bài toán Binary Classification, tức bài toán phân lớp với chỉ hai classes. Việc này cũng tương tự như Percetron Learning Algorithm hay Logistic Regression vậy. Các mô hình làm việc với bài toán có 2 classes còn được gọi là Binary classifiers. Một cách tự nhiên để mở rộng các mô hình này áp dụng cho các bài toán multi-class classification, tức có nhiều classes dữ liệu khác nhau, là sử dụng nhiều binary classifiers và các kỹ thuật như one-vs-one hoặc one-vs-rest. Cách làm này có những hạn chế như đã trình bày trong bài Softmax Regression."
      ],
      "metadata": {
        "id": "AzwYDTxJTtOw"
      }
    },
    {
      "cell_type": "markdown",
      "metadata": {
        "id": "MQEBw_rZRbCA"
      },
      "source": [
        "## Example: Nhận diện khuông mặt người\n",
        "\n",
        "Đến với tác vụ nâng cao hơn trong bài toán thực tế.\n",
        "Ta sẽ sử dụng các dữ liệu Labeled Faces in the Wild dataset, bao gồm hàng nghìn bức ảnh đối chiếu của các nhân vật công chúng khác nhau.\n"
      ]
    },
    {
      "cell_type": "code",
      "execution_count": 84,
      "metadata": {
        "id": "ROByKnpBRbCB",
        "outputId": "441ab9b4-55a1-441e-9584-7b83fe4925da",
        "colab": {
          "base_uri": "https://localhost:8080/"
        }
      },
      "outputs": [
        {
          "output_type": "stream",
          "name": "stdout",
          "text": [
            "['Ariel Sharon' 'Colin Powell' 'Donald Rumsfeld' 'George W Bush'\n",
            " 'Gerhard Schroeder' 'Hugo Chavez' 'Junichiro Koizumi' 'Tony Blair']\n",
            "(1348, 62, 47)\n"
          ]
        }
      ],
      "source": [
        "from sklearn.datasets import fetch_lfw_people\n",
        "faces = fetch_lfw_people(min_faces_per_person=60)\n",
        "print(faces.target_names)\n",
        "print(faces.images.shape)"
      ]
    },
    {
      "cell_type": "markdown",
      "source": [
        "Tổng cộng 1348 ảnh (62x47)"
      ],
      "metadata": {
        "id": "Ku0bGRwSVRVv"
      }
    },
    {
      "cell_type": "markdown",
      "metadata": {
        "id": "6b5aWrjlRbCB"
      },
      "source": [
        ""
      ]
    },
    {
      "cell_type": "code",
      "execution_count": 85,
      "metadata": {
        "id": "sPJdk35-RbCB",
        "outputId": "6b90a95d-e552-411f-e5d4-a27c87216fb3",
        "colab": {
          "base_uri": "https://localhost:8080/",
          "height": 265
        }
      },
      "outputs": [
        {
          "output_type": "display_data",
          "data": {
            "image/png": "[encoded data removed]",
            "text/plain": [
              "<Figure size 432x288 with 15 Axes>"
            ]
          },
          "metadata": {}
        }
      ],
      "source": [
        "#Minh họa một vài khuôn mặt \n",
        "fig, ax = plt.subplots(3, 5)\n",
        "for i, axi in enumerate(ax.flat):\n",
        "    axi.imshow(faces.images[i], cmap='bone')\n",
        "    axi.set(xticks=[], yticks=[],\n",
        "            xlabel=faces.target_names[faces.target[i]])"
      ]
    },
    {
      "cell_type": "markdown",
      "source": [
        "Mỗi hình ảnh chứa [62 × 47] hoặc gần 3.000 pixel.\n",
        "Ở đây, chúng ta sẽ sử dụng một phương pháp rút trích đặc trưng huyền thoại PCA (Principal-Component-Analysis) để trích xuất 150 thành phần cơ bản để đưa vào máy phân loại SVM. Có thể thay thế bằng mạng CNN hiện đại.\n",
        "Chúng ta có thể làm điều này một cách đơn giản nhất bằng cách đóng gói bộ tiền xử lý và bộ phân loại vào một pipeline duy nhất:"
      ],
      "metadata": {
        "id": "I91tkqTMT5_-"
      }
    },
    {
      "cell_type": "code",
      "execution_count": 115,
      "metadata": {
        "collapsed": true,
        "id": "rIWcl8-BRbCC"
      },
      "outputs": [],
      "source": [
        "from sklearn.svm import SVC\n",
        "from sklearn.decomposition import PCA as RandomizedPCA\n",
        "from sklearn.pipeline import make_pipeline\n",
        "\n",
        "pca = RandomizedPCA(n_components=150, whiten=True, random_state=42)\n",
        "svc = SVC(kernel='rbf', class_weight='balanced')\n",
        "model = make_pipeline(pca, svc)"
      ]
    },
    {
      "cell_type": "code",
      "execution_count": 116,
      "metadata": {
        "collapsed": true,
        "id": "41UynqRYRbCD"
      },
      "outputs": [],
      "source": [
        "X_train, X_test, y_train, y_test = train_test_split(faces.data, faces.target,test_size=0.20, random_state=42)"
      ]
    },
    {
      "cell_type": "markdown",
      "source": [
        "\n",
        "Cuối cùng, 1 lần nữa sử dụng grid search cross-validation để tune các tham số."
      ],
      "metadata": {
        "id": "AeX8AwYGU-QS"
      }
    },
    {
      "cell_type": "code",
      "execution_count": null,
      "metadata": {
        "id": "aUQsZec_RbCD"
      },
      "outputs": [],
      "source": [
        "param_grid = {'svc__C': [1, 5, 10, 50, 100],\n",
        "              'svc__gamma': [1e-3, 5e-3, 1e-4, 5e-4, 1e-5]}\n",
        "grid = GridSearchCV(model, param_grid)\n",
        "\n",
        "%time grid.fit(X_train, y_train)\n",
        "print(grid.best_params_)"
      ]
    },
    {
      "cell_type": "code",
      "source": [
        "# model=SVC()\n",
        "# param_grid = [{'kernel': ['rbf'], 'gamma': [1e-3, 5e-3, 1e-4, 5e-4, 1e-5],'C': [1, 5, 10, 50, 100]},\n",
        "#               {'kernel': ['linear'], 'C': [1, 10, 100]}]\n",
        "# grid=GridSearchCV(model,param_grid,cv=10,scoring='accuracy')\n",
        "# print(\"Tune hyper-parameters\")\n",
        "# grid.fit(X_train,y_train)\n",
        "# print(grid.best_params_)\n",
        "# print(np.round(grid.best_score_,3))"
      ],
      "metadata": {
        "id": "jFBUe-VVW9g3",
        "outputId": "db6f8eff-3060-4d26-8fb7-6434f04352fb",
        "colab": {
          "base_uri": "https://localhost:8080/"
        }
      },
      "execution_count": 111,
      "outputs": [
        {
          "output_type": "stream",
          "name": "stdout",
          "text": [
            "Tune hyper-parameters\n",
            "{'C': 1, 'kernel': 'linear'}\n",
            "0.844\n"
          ]
        }
      ]
    },
    {
      "cell_type": "code",
      "execution_count": null,
      "metadata": {
        "collapsed": true,
        "id": "lInR0NUORbCE"
      },
      "outputs": [],
      "source": [
        "# Sử dụng các siêu tham số trên để xây dựng mô hình\n",
        "model = grid.best_estimator_\n",
        "y_pred = model.predict(X_test)"
      ]
    },
    {
      "cell_type": "markdown",
      "metadata": {
        "id": "ARUsD_QGRbCE"
      },
      "source": [
        "Minh họa một số dự đoán của model"
      ]
    },
    {
      "cell_type": "code",
      "execution_count": null,
      "metadata": {
        "id": "4IQ6lzTYRbCE"
      },
      "outputs": [],
      "source": [
        "fig, ax = plt.subplots(4, 6)\n",
        "for i, axi in enumerate(ax.flat):\n",
        "    axi.imshow(X_test[i].reshape(62, 47), cmap='bone')\n",
        "    axi.set(xticks=[], yticks=[])\n",
        "    axi.set_ylabel(faces.target_names[y_pred[i]].split()[-1],\n",
        "                   color='black' if yfit[i] == y_test[i] else 'red') # Các dự đoán lỗi đc tô màu đỏ\n",
        "fig.suptitle('Kết quả nhận diện', size=14);"
      ]
    },
    {
      "cell_type": "code",
      "execution_count": null,
      "metadata": {
        "id": "ym3sHTVoRbCF"
      },
      "outputs": [],
      "source": [
        "# Đánh giá = f1-score\n",
        "print(classification_report(y_test, y_pred,\n",
        "                            target_names=faces.target_names))"
      ]
    },
    {
      "cell_type": "code",
      "execution_count": 104,
      "metadata": {
        "id": "TLLUhrJ2RbCF",
        "outputId": "ae1dcb1c-11f7-48e3-d629-28c4d5e839fb",
        "colab": {
          "base_uri": "https://localhost:8080/",
          "height": 380
        }
      },
      "outputs": [
        {
          "output_type": "display_data",
          "data": {
            "image/png": "[encoded data removed]",
            "text/plain": [
              "<Figure size 432x288 with 1 Axes>"
            ]
          },
          "metadata": {
            "needs_background": "light"
          }
        }
      ],
      "source": [
        "# Confusion_matrix\n",
        "from sklearn.metrics import confusion_matrix\n",
        "mat = confusion_matrix(ytest, yfit)\n",
        "sns.heatmap(mat.T, square=True, annot=True, fmt='d', cbar=False,\n",
        "            xticklabels=faces.target_names,\n",
        "            yticklabels=faces.target_names)\n",
        "plt.xlabel('true label')\n",
        "plt.ylabel('predicted label');"
      ]
    }
  ]
}